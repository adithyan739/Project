{
  "cells": [
    {
      "cell_type": "code",
      "execution_count": 1,
      "metadata": {
        "id": "z3XMrxfaG6k8"
      },
      "outputs": [],
      "source": [
        "import pandas as pd\n",
        "import numpy as np\n",
        "import sys\n",
        "import sklearn"
      ]
    },
    {
      "cell_type": "code",
      "execution_count": 2,
      "metadata": {
        "colab": {
          "base_uri": "https://localhost:8080/"
        },
        "id": "68km_Ig9HKRU",
        "outputId": "fd684626-9051-4a25-a6d9-0f66af53d999"
      },
      "outputs": [
        {
          "output_type": "stream",
          "name": "stdout",
          "text": [
            "Dimensions of the Training set: (125973, 42)\n",
            "Dimensions of the Test set: (22544, 42)\n"
          ]
        }
      ],
      "source": [
        "col_names = [\"duration\",\"protocol_type\",\"service\",\"flag\",\"src_bytes\",\n",
        "    \"dst_bytes\",\"land\",\"wrong_fragment\",\"urgent\",\"hot\",\"num_failed_logins\",\n",
        "    \"logged_in\",\"num_compromised\",\"root_shell\",\"su_attempted\",\"num_root\",\n",
        "    \"num_file_creations\",\"num_shells\",\"num_access_files\",\"num_outbound_cmds\",\n",
        "    \"is_host_login\",\"is_guest_login\",\"count\",\"srv_count\",\"serror_rate\",\n",
        "    \"srv_serror_rate\",\"rerror_rate\",\"srv_rerror_rate\",\"same_srv_rate\",\n",
        "    \"diff_srv_rate\",\"srv_diff_host_rate\",\"dst_host_count\",\"dst_host_srv_count\",\n",
        "    \"dst_host_same_srv_rate\",\"dst_host_diff_srv_rate\",\"dst_host_same_src_port_rate\",\n",
        "    \"dst_host_srv_diff_host_rate\",\"dst_host_serror_rate\",\"dst_host_srv_serror_rate\",\n",
        "    \"dst_host_rerror_rate\",\"dst_host_srv_rerror_rate\",\"label\"]\n",
        "\n",
        "\n",
        "df = pd.read_csv(\"/content/drive/MyDrive/Dataset/KDDTrain.csv\", header=None, names = col_names)\n",
        "df_test = pd.read_csv(\"/content/drive/MyDrive/Dataset/KDDTest.csv\", header=None, names = col_names)\n",
        "\n",
        "\n",
        "print('Dimensions of the Training set:',df.shape)\n",
        "print('Dimensions of the Test set:',df_test.shape)"
      ]
    },
    {
      "cell_type": "code",
      "execution_count": 3,
      "metadata": {
        "colab": {
          "base_uri": "https://localhost:8080/",
          "height": 300
        },
        "id": "J8nLfPMrHd1Z",
        "outputId": "5f29257b-b67e-4b39-f1d8-b52d116ca703"
      },
      "outputs": [
        {
          "output_type": "execute_result",
          "data": {
            "text/plain": [
              "   duration protocol_type   service flag  src_bytes  dst_bytes  land  \\\n",
              "0         0           tcp  ftp_data   SF        491          0     0   \n",
              "1         0           udp     other   SF        146          0     0   \n",
              "2         0           tcp   private   S0          0          0     0   \n",
              "3         0           tcp      http   SF        232       8153     0   \n",
              "4         0           tcp      http   SF        199        420     0   \n",
              "\n",
              "   wrong_fragment  urgent  hot  ...  dst_host_srv_count  \\\n",
              "0               0       0    0  ...                  25   \n",
              "1               0       0    0  ...                   1   \n",
              "2               0       0    0  ...                  26   \n",
              "3               0       0    0  ...                 255   \n",
              "4               0       0    0  ...                 255   \n",
              "\n",
              "   dst_host_same_srv_rate  dst_host_diff_srv_rate  \\\n",
              "0                    0.17                    0.03   \n",
              "1                    0.00                    0.60   \n",
              "2                    0.10                    0.05   \n",
              "3                    1.00                    0.00   \n",
              "4                    1.00                    0.00   \n",
              "\n",
              "   dst_host_same_src_port_rate  dst_host_srv_diff_host_rate  \\\n",
              "0                         0.17                         0.00   \n",
              "1                         0.88                         0.00   \n",
              "2                         0.00                         0.00   \n",
              "3                         0.03                         0.04   \n",
              "4                         0.00                         0.00   \n",
              "\n",
              "   dst_host_serror_rate  dst_host_srv_serror_rate  dst_host_rerror_rate  \\\n",
              "0                  0.00                      0.00                  0.05   \n",
              "1                  0.00                      0.00                  0.00   \n",
              "2                  1.00                      1.00                  0.00   \n",
              "3                  0.03                      0.01                  0.00   \n",
              "4                  0.00                      0.00                  0.00   \n",
              "\n",
              "   dst_host_srv_rerror_rate    label  \n",
              "0                      0.00   normal  \n",
              "1                      0.00   normal  \n",
              "2                      0.00  neptune  \n",
              "3                      0.01   normal  \n",
              "4                      0.00   normal  \n",
              "\n",
              "[5 rows x 42 columns]"
            ],
            "text/html": [
              "\n",
              "  <div id=\"df-94db8544-cfd8-4429-b695-930ebde5e7c4\">\n",
              "    <div class=\"colab-df-container\">\n",
              "      <div>\n",
              "<style scoped>\n",
              "    .dataframe tbody tr th:only-of-type {\n",
              "        vertical-align: middle;\n",
              "    }\n",
              "\n",
              "    .dataframe tbody tr th {\n",
              "        vertical-align: top;\n",
              "    }\n",
              "\n",
              "    .dataframe thead th {\n",
              "        text-align: right;\n",
              "    }\n",
              "</style>\n",
              "<table border=\"1\" class=\"dataframe\">\n",
              "  <thead>\n",
              "    <tr style=\"text-align: right;\">\n",
              "      <th></th>\n",
              "      <th>duration</th>\n",
              "      <th>protocol_type</th>\n",
              "      <th>service</th>\n",
              "      <th>flag</th>\n",
              "      <th>src_bytes</th>\n",
              "      <th>dst_bytes</th>\n",
              "      <th>land</th>\n",
              "      <th>wrong_fragment</th>\n",
              "      <th>urgent</th>\n",
              "      <th>hot</th>\n",
              "      <th>...</th>\n",
              "      <th>dst_host_srv_count</th>\n",
              "      <th>dst_host_same_srv_rate</th>\n",
              "      <th>dst_host_diff_srv_rate</th>\n",
              "      <th>dst_host_same_src_port_rate</th>\n",
              "      <th>dst_host_srv_diff_host_rate</th>\n",
              "      <th>dst_host_serror_rate</th>\n",
              "      <th>dst_host_srv_serror_rate</th>\n",
              "      <th>dst_host_rerror_rate</th>\n",
              "      <th>dst_host_srv_rerror_rate</th>\n",
              "      <th>label</th>\n",
              "    </tr>\n",
              "  </thead>\n",
              "  <tbody>\n",
              "    <tr>\n",
              "      <th>0</th>\n",
              "      <td>0</td>\n",
              "      <td>tcp</td>\n",
              "      <td>ftp_data</td>\n",
              "      <td>SF</td>\n",
              "      <td>491</td>\n",
              "      <td>0</td>\n",
              "      <td>0</td>\n",
              "      <td>0</td>\n",
              "      <td>0</td>\n",
              "      <td>0</td>\n",
              "      <td>...</td>\n",
              "      <td>25</td>\n",
              "      <td>0.17</td>\n",
              "      <td>0.03</td>\n",
              "      <td>0.17</td>\n",
              "      <td>0.00</td>\n",
              "      <td>0.00</td>\n",
              "      <td>0.00</td>\n",
              "      <td>0.05</td>\n",
              "      <td>0.00</td>\n",
              "      <td>normal</td>\n",
              "    </tr>\n",
              "    <tr>\n",
              "      <th>1</th>\n",
              "      <td>0</td>\n",
              "      <td>udp</td>\n",
              "      <td>other</td>\n",
              "      <td>SF</td>\n",
              "      <td>146</td>\n",
              "      <td>0</td>\n",
              "      <td>0</td>\n",
              "      <td>0</td>\n",
              "      <td>0</td>\n",
              "      <td>0</td>\n",
              "      <td>...</td>\n",
              "      <td>1</td>\n",
              "      <td>0.00</td>\n",
              "      <td>0.60</td>\n",
              "      <td>0.88</td>\n",
              "      <td>0.00</td>\n",
              "      <td>0.00</td>\n",
              "      <td>0.00</td>\n",
              "      <td>0.00</td>\n",
              "      <td>0.00</td>\n",
              "      <td>normal</td>\n",
              "    </tr>\n",
              "    <tr>\n",
              "      <th>2</th>\n",
              "      <td>0</td>\n",
              "      <td>tcp</td>\n",
              "      <td>private</td>\n",
              "      <td>S0</td>\n",
              "      <td>0</td>\n",
              "      <td>0</td>\n",
              "      <td>0</td>\n",
              "      <td>0</td>\n",
              "      <td>0</td>\n",
              "      <td>0</td>\n",
              "      <td>...</td>\n",
              "      <td>26</td>\n",
              "      <td>0.10</td>\n",
              "      <td>0.05</td>\n",
              "      <td>0.00</td>\n",
              "      <td>0.00</td>\n",
              "      <td>1.00</td>\n",
              "      <td>1.00</td>\n",
              "      <td>0.00</td>\n",
              "      <td>0.00</td>\n",
              "      <td>neptune</td>\n",
              "    </tr>\n",
              "    <tr>\n",
              "      <th>3</th>\n",
              "      <td>0</td>\n",
              "      <td>tcp</td>\n",
              "      <td>http</td>\n",
              "      <td>SF</td>\n",
              "      <td>232</td>\n",
              "      <td>8153</td>\n",
              "      <td>0</td>\n",
              "      <td>0</td>\n",
              "      <td>0</td>\n",
              "      <td>0</td>\n",
              "      <td>...</td>\n",
              "      <td>255</td>\n",
              "      <td>1.00</td>\n",
              "      <td>0.00</td>\n",
              "      <td>0.03</td>\n",
              "      <td>0.04</td>\n",
              "      <td>0.03</td>\n",
              "      <td>0.01</td>\n",
              "      <td>0.00</td>\n",
              "      <td>0.01</td>\n",
              "      <td>normal</td>\n",
              "    </tr>\n",
              "    <tr>\n",
              "      <th>4</th>\n",
              "      <td>0</td>\n",
              "      <td>tcp</td>\n",
              "      <td>http</td>\n",
              "      <td>SF</td>\n",
              "      <td>199</td>\n",
              "      <td>420</td>\n",
              "      <td>0</td>\n",
              "      <td>0</td>\n",
              "      <td>0</td>\n",
              "      <td>0</td>\n",
              "      <td>...</td>\n",
              "      <td>255</td>\n",
              "      <td>1.00</td>\n",
              "      <td>0.00</td>\n",
              "      <td>0.00</td>\n",
              "      <td>0.00</td>\n",
              "      <td>0.00</td>\n",
              "      <td>0.00</td>\n",
              "      <td>0.00</td>\n",
              "      <td>0.00</td>\n",
              "      <td>normal</td>\n",
              "    </tr>\n",
              "  </tbody>\n",
              "</table>\n",
              "<p>5 rows × 42 columns</p>\n",
              "</div>\n",
              "      <button class=\"colab-df-convert\" onclick=\"convertToInteractive('df-94db8544-cfd8-4429-b695-930ebde5e7c4')\"\n",
              "              title=\"Convert this dataframe to an interactive table.\"\n",
              "              style=\"display:none;\">\n",
              "        \n",
              "  <svg xmlns=\"http://www.w3.org/2000/svg\" height=\"24px\"viewBox=\"0 0 24 24\"\n",
              "       width=\"24px\">\n",
              "    <path d=\"M0 0h24v24H0V0z\" fill=\"none\"/>\n",
              "    <path d=\"M18.56 5.44l.94 2.06.94-2.06 2.06-.94-2.06-.94-.94-2.06-.94 2.06-2.06.94zm-11 1L8.5 8.5l.94-2.06 2.06-.94-2.06-.94L8.5 2.5l-.94 2.06-2.06.94zm10 10l.94 2.06.94-2.06 2.06-.94-2.06-.94-.94-2.06-.94 2.06-2.06.94z\"/><path d=\"M17.41 7.96l-1.37-1.37c-.4-.4-.92-.59-1.43-.59-.52 0-1.04.2-1.43.59L10.3 9.45l-7.72 7.72c-.78.78-.78 2.05 0 2.83L4 21.41c.39.39.9.59 1.41.59.51 0 1.02-.2 1.41-.59l7.78-7.78 2.81-2.81c.8-.78.8-2.07 0-2.86zM5.41 20L4 18.59l7.72-7.72 1.47 1.35L5.41 20z\"/>\n",
              "  </svg>\n",
              "      </button>\n",
              "      \n",
              "  <style>\n",
              "    .colab-df-container {\n",
              "      display:flex;\n",
              "      flex-wrap:wrap;\n",
              "      gap: 12px;\n",
              "    }\n",
              "\n",
              "    .colab-df-convert {\n",
              "      background-color: #E8F0FE;\n",
              "      border: none;\n",
              "      border-radius: 50%;\n",
              "      cursor: pointer;\n",
              "      display: none;\n",
              "      fill: #1967D2;\n",
              "      height: 32px;\n",
              "      padding: 0 0 0 0;\n",
              "      width: 32px;\n",
              "    }\n",
              "\n",
              "    .colab-df-convert:hover {\n",
              "      background-color: #E2EBFA;\n",
              "      box-shadow: 0px 1px 2px rgba(60, 64, 67, 0.3), 0px 1px 3px 1px rgba(60, 64, 67, 0.15);\n",
              "      fill: #174EA6;\n",
              "    }\n",
              "\n",
              "    [theme=dark] .colab-df-convert {\n",
              "      background-color: #3B4455;\n",
              "      fill: #D2E3FC;\n",
              "    }\n",
              "\n",
              "    [theme=dark] .colab-df-convert:hover {\n",
              "      background-color: #434B5C;\n",
              "      box-shadow: 0px 1px 3px 1px rgba(0, 0, 0, 0.15);\n",
              "      filter: drop-shadow(0px 1px 2px rgba(0, 0, 0, 0.3));\n",
              "      fill: #FFFFFF;\n",
              "    }\n",
              "  </style>\n",
              "\n",
              "      <script>\n",
              "        const buttonEl =\n",
              "          document.querySelector('#df-94db8544-cfd8-4429-b695-930ebde5e7c4 button.colab-df-convert');\n",
              "        buttonEl.style.display =\n",
              "          google.colab.kernel.accessAllowed ? 'block' : 'none';\n",
              "\n",
              "        async function convertToInteractive(key) {\n",
              "          const element = document.querySelector('#df-94db8544-cfd8-4429-b695-930ebde5e7c4');\n",
              "          const dataTable =\n",
              "            await google.colab.kernel.invokeFunction('convertToInteractive',\n",
              "                                                     [key], {});\n",
              "          if (!dataTable) return;\n",
              "\n",
              "          const docLinkHtml = 'Like what you see? Visit the ' +\n",
              "            '<a target=\"_blank\" href=https://colab.research.google.com/notebooks/data_table.ipynb>data table notebook</a>'\n",
              "            + ' to learn more about interactive tables.';\n",
              "          element.innerHTML = '';\n",
              "          dataTable['output_type'] = 'display_data';\n",
              "          await google.colab.output.renderOutput(dataTable, element);\n",
              "          const docLink = document.createElement('div');\n",
              "          docLink.innerHTML = docLinkHtml;\n",
              "          element.appendChild(docLink);\n",
              "        }\n",
              "      </script>\n",
              "    </div>\n",
              "  </div>\n",
              "  "
            ]
          },
          "metadata": {},
          "execution_count": 3
        }
      ],
      "source": [
        "df.head()"
      ]
    },
    {
      "cell_type": "code",
      "execution_count": 4,
      "metadata": {
        "colab": {
          "base_uri": "https://localhost:8080/",
          "height": 394
        },
        "id": "GDXCfP1FHh1A",
        "outputId": "1625006d-47f7-49b1-c500-8a75c871abdb"
      },
      "outputs": [
        {
          "output_type": "execute_result",
          "data": {
            "text/plain": [
              "           duration     src_bytes     dst_bytes           land  \\\n",
              "count  125973.00000  1.259730e+05  1.259730e+05  125973.000000   \n",
              "mean      287.14465  4.556674e+04  1.977911e+04       0.000198   \n",
              "std      2604.51531  5.870331e+06  4.021269e+06       0.014086   \n",
              "min         0.00000  0.000000e+00  0.000000e+00       0.000000   \n",
              "25%         0.00000  0.000000e+00  0.000000e+00       0.000000   \n",
              "50%         0.00000  4.400000e+01  0.000000e+00       0.000000   \n",
              "75%         0.00000  2.760000e+02  5.160000e+02       0.000000   \n",
              "max     42908.00000  1.379964e+09  1.309937e+09       1.000000   \n",
              "\n",
              "       wrong_fragment         urgent            hot  num_failed_logins  \\\n",
              "count   125973.000000  125973.000000  125973.000000      125973.000000   \n",
              "mean         0.022687       0.000111       0.204409           0.001222   \n",
              "std          0.253530       0.014366       2.149968           0.045239   \n",
              "min          0.000000       0.000000       0.000000           0.000000   \n",
              "25%          0.000000       0.000000       0.000000           0.000000   \n",
              "50%          0.000000       0.000000       0.000000           0.000000   \n",
              "75%          0.000000       0.000000       0.000000           0.000000   \n",
              "max          3.000000       3.000000      77.000000           5.000000   \n",
              "\n",
              "           logged_in  num_compromised  ...  dst_host_count  \\\n",
              "count  125973.000000    125973.000000  ...   125973.000000   \n",
              "mean        0.395736         0.279250  ...      182.148945   \n",
              "std         0.489010        23.942042  ...       99.206213   \n",
              "min         0.000000         0.000000  ...        0.000000   \n",
              "25%         0.000000         0.000000  ...       82.000000   \n",
              "50%         0.000000         0.000000  ...      255.000000   \n",
              "75%         1.000000         0.000000  ...      255.000000   \n",
              "max         1.000000      7479.000000  ...      255.000000   \n",
              "\n",
              "       dst_host_srv_count  dst_host_same_srv_rate  dst_host_diff_srv_rate  \\\n",
              "count       125973.000000           125973.000000           125973.000000   \n",
              "mean           115.653005                0.521242                0.082951   \n",
              "std            110.702741                0.448949                0.188922   \n",
              "min              0.000000                0.000000                0.000000   \n",
              "25%             10.000000                0.050000                0.000000   \n",
              "50%             63.000000                0.510000                0.020000   \n",
              "75%            255.000000                1.000000                0.070000   \n",
              "max            255.000000                1.000000                1.000000   \n",
              "\n",
              "       dst_host_same_src_port_rate  dst_host_srv_diff_host_rate  \\\n",
              "count                125973.000000                125973.000000   \n",
              "mean                      0.148379                     0.032542   \n",
              "std                       0.308997                     0.112564   \n",
              "min                       0.000000                     0.000000   \n",
              "25%                       0.000000                     0.000000   \n",
              "50%                       0.000000                     0.000000   \n",
              "75%                       0.060000                     0.020000   \n",
              "max                       1.000000                     1.000000   \n",
              "\n",
              "       dst_host_serror_rate  dst_host_srv_serror_rate  dst_host_rerror_rate  \\\n",
              "count         125973.000000             125973.000000         125973.000000   \n",
              "mean               0.284452                  0.278485              0.118832   \n",
              "std                0.444784                  0.445669              0.306557   \n",
              "min                0.000000                  0.000000              0.000000   \n",
              "25%                0.000000                  0.000000              0.000000   \n",
              "50%                0.000000                  0.000000              0.000000   \n",
              "75%                1.000000                  1.000000              0.000000   \n",
              "max                1.000000                  1.000000              1.000000   \n",
              "\n",
              "       dst_host_srv_rerror_rate  \n",
              "count             125973.000000  \n",
              "mean                   0.120240  \n",
              "std                    0.319459  \n",
              "min                    0.000000  \n",
              "25%                    0.000000  \n",
              "50%                    0.000000  \n",
              "75%                    0.000000  \n",
              "max                    1.000000  \n",
              "\n",
              "[8 rows x 38 columns]"
            ],
            "text/html": [
              "\n",
              "  <div id=\"df-a92b63a7-ce8a-448d-9b0d-50d4820f14e8\">\n",
              "    <div class=\"colab-df-container\">\n",
              "      <div>\n",
              "<style scoped>\n",
              "    .dataframe tbody tr th:only-of-type {\n",
              "        vertical-align: middle;\n",
              "    }\n",
              "\n",
              "    .dataframe tbody tr th {\n",
              "        vertical-align: top;\n",
              "    }\n",
              "\n",
              "    .dataframe thead th {\n",
              "        text-align: right;\n",
              "    }\n",
              "</style>\n",
              "<table border=\"1\" class=\"dataframe\">\n",
              "  <thead>\n",
              "    <tr style=\"text-align: right;\">\n",
              "      <th></th>\n",
              "      <th>duration</th>\n",
              "      <th>src_bytes</th>\n",
              "      <th>dst_bytes</th>\n",
              "      <th>land</th>\n",
              "      <th>wrong_fragment</th>\n",
              "      <th>urgent</th>\n",
              "      <th>hot</th>\n",
              "      <th>num_failed_logins</th>\n",
              "      <th>logged_in</th>\n",
              "      <th>num_compromised</th>\n",
              "      <th>...</th>\n",
              "      <th>dst_host_count</th>\n",
              "      <th>dst_host_srv_count</th>\n",
              "      <th>dst_host_same_srv_rate</th>\n",
              "      <th>dst_host_diff_srv_rate</th>\n",
              "      <th>dst_host_same_src_port_rate</th>\n",
              "      <th>dst_host_srv_diff_host_rate</th>\n",
              "      <th>dst_host_serror_rate</th>\n",
              "      <th>dst_host_srv_serror_rate</th>\n",
              "      <th>dst_host_rerror_rate</th>\n",
              "      <th>dst_host_srv_rerror_rate</th>\n",
              "    </tr>\n",
              "  </thead>\n",
              "  <tbody>\n",
              "    <tr>\n",
              "      <th>count</th>\n",
              "      <td>125973.00000</td>\n",
              "      <td>1.259730e+05</td>\n",
              "      <td>1.259730e+05</td>\n",
              "      <td>125973.000000</td>\n",
              "      <td>125973.000000</td>\n",
              "      <td>125973.000000</td>\n",
              "      <td>125973.000000</td>\n",
              "      <td>125973.000000</td>\n",
              "      <td>125973.000000</td>\n",
              "      <td>125973.000000</td>\n",
              "      <td>...</td>\n",
              "      <td>125973.000000</td>\n",
              "      <td>125973.000000</td>\n",
              "      <td>125973.000000</td>\n",
              "      <td>125973.000000</td>\n",
              "      <td>125973.000000</td>\n",
              "      <td>125973.000000</td>\n",
              "      <td>125973.000000</td>\n",
              "      <td>125973.000000</td>\n",
              "      <td>125973.000000</td>\n",
              "      <td>125973.000000</td>\n",
              "    </tr>\n",
              "    <tr>\n",
              "      <th>mean</th>\n",
              "      <td>287.14465</td>\n",
              "      <td>4.556674e+04</td>\n",
              "      <td>1.977911e+04</td>\n",
              "      <td>0.000198</td>\n",
              "      <td>0.022687</td>\n",
              "      <td>0.000111</td>\n",
              "      <td>0.204409</td>\n",
              "      <td>0.001222</td>\n",
              "      <td>0.395736</td>\n",
              "      <td>0.279250</td>\n",
              "      <td>...</td>\n",
              "      <td>182.148945</td>\n",
              "      <td>115.653005</td>\n",
              "      <td>0.521242</td>\n",
              "      <td>0.082951</td>\n",
              "      <td>0.148379</td>\n",
              "      <td>0.032542</td>\n",
              "      <td>0.284452</td>\n",
              "      <td>0.278485</td>\n",
              "      <td>0.118832</td>\n",
              "      <td>0.120240</td>\n",
              "    </tr>\n",
              "    <tr>\n",
              "      <th>std</th>\n",
              "      <td>2604.51531</td>\n",
              "      <td>5.870331e+06</td>\n",
              "      <td>4.021269e+06</td>\n",
              "      <td>0.014086</td>\n",
              "      <td>0.253530</td>\n",
              "      <td>0.014366</td>\n",
              "      <td>2.149968</td>\n",
              "      <td>0.045239</td>\n",
              "      <td>0.489010</td>\n",
              "      <td>23.942042</td>\n",
              "      <td>...</td>\n",
              "      <td>99.206213</td>\n",
              "      <td>110.702741</td>\n",
              "      <td>0.448949</td>\n",
              "      <td>0.188922</td>\n",
              "      <td>0.308997</td>\n",
              "      <td>0.112564</td>\n",
              "      <td>0.444784</td>\n",
              "      <td>0.445669</td>\n",
              "      <td>0.306557</td>\n",
              "      <td>0.319459</td>\n",
              "    </tr>\n",
              "    <tr>\n",
              "      <th>min</th>\n",
              "      <td>0.00000</td>\n",
              "      <td>0.000000e+00</td>\n",
              "      <td>0.000000e+00</td>\n",
              "      <td>0.000000</td>\n",
              "      <td>0.000000</td>\n",
              "      <td>0.000000</td>\n",
              "      <td>0.000000</td>\n",
              "      <td>0.000000</td>\n",
              "      <td>0.000000</td>\n",
              "      <td>0.000000</td>\n",
              "      <td>...</td>\n",
              "      <td>0.000000</td>\n",
              "      <td>0.000000</td>\n",
              "      <td>0.000000</td>\n",
              "      <td>0.000000</td>\n",
              "      <td>0.000000</td>\n",
              "      <td>0.000000</td>\n",
              "      <td>0.000000</td>\n",
              "      <td>0.000000</td>\n",
              "      <td>0.000000</td>\n",
              "      <td>0.000000</td>\n",
              "    </tr>\n",
              "    <tr>\n",
              "      <th>25%</th>\n",
              "      <td>0.00000</td>\n",
              "      <td>0.000000e+00</td>\n",
              "      <td>0.000000e+00</td>\n",
              "      <td>0.000000</td>\n",
              "      <td>0.000000</td>\n",
              "      <td>0.000000</td>\n",
              "      <td>0.000000</td>\n",
              "      <td>0.000000</td>\n",
              "      <td>0.000000</td>\n",
              "      <td>0.000000</td>\n",
              "      <td>...</td>\n",
              "      <td>82.000000</td>\n",
              "      <td>10.000000</td>\n",
              "      <td>0.050000</td>\n",
              "      <td>0.000000</td>\n",
              "      <td>0.000000</td>\n",
              "      <td>0.000000</td>\n",
              "      <td>0.000000</td>\n",
              "      <td>0.000000</td>\n",
              "      <td>0.000000</td>\n",
              "      <td>0.000000</td>\n",
              "    </tr>\n",
              "    <tr>\n",
              "      <th>50%</th>\n",
              "      <td>0.00000</td>\n",
              "      <td>4.400000e+01</td>\n",
              "      <td>0.000000e+00</td>\n",
              "      <td>0.000000</td>\n",
              "      <td>0.000000</td>\n",
              "      <td>0.000000</td>\n",
              "      <td>0.000000</td>\n",
              "      <td>0.000000</td>\n",
              "      <td>0.000000</td>\n",
              "      <td>0.000000</td>\n",
              "      <td>...</td>\n",
              "      <td>255.000000</td>\n",
              "      <td>63.000000</td>\n",
              "      <td>0.510000</td>\n",
              "      <td>0.020000</td>\n",
              "      <td>0.000000</td>\n",
              "      <td>0.000000</td>\n",
              "      <td>0.000000</td>\n",
              "      <td>0.000000</td>\n",
              "      <td>0.000000</td>\n",
              "      <td>0.000000</td>\n",
              "    </tr>\n",
              "    <tr>\n",
              "      <th>75%</th>\n",
              "      <td>0.00000</td>\n",
              "      <td>2.760000e+02</td>\n",
              "      <td>5.160000e+02</td>\n",
              "      <td>0.000000</td>\n",
              "      <td>0.000000</td>\n",
              "      <td>0.000000</td>\n",
              "      <td>0.000000</td>\n",
              "      <td>0.000000</td>\n",
              "      <td>1.000000</td>\n",
              "      <td>0.000000</td>\n",
              "      <td>...</td>\n",
              "      <td>255.000000</td>\n",
              "      <td>255.000000</td>\n",
              "      <td>1.000000</td>\n",
              "      <td>0.070000</td>\n",
              "      <td>0.060000</td>\n",
              "      <td>0.020000</td>\n",
              "      <td>1.000000</td>\n",
              "      <td>1.000000</td>\n",
              "      <td>0.000000</td>\n",
              "      <td>0.000000</td>\n",
              "    </tr>\n",
              "    <tr>\n",
              "      <th>max</th>\n",
              "      <td>42908.00000</td>\n",
              "      <td>1.379964e+09</td>\n",
              "      <td>1.309937e+09</td>\n",
              "      <td>1.000000</td>\n",
              "      <td>3.000000</td>\n",
              "      <td>3.000000</td>\n",
              "      <td>77.000000</td>\n",
              "      <td>5.000000</td>\n",
              "      <td>1.000000</td>\n",
              "      <td>7479.000000</td>\n",
              "      <td>...</td>\n",
              "      <td>255.000000</td>\n",
              "      <td>255.000000</td>\n",
              "      <td>1.000000</td>\n",
              "      <td>1.000000</td>\n",
              "      <td>1.000000</td>\n",
              "      <td>1.000000</td>\n",
              "      <td>1.000000</td>\n",
              "      <td>1.000000</td>\n",
              "      <td>1.000000</td>\n",
              "      <td>1.000000</td>\n",
              "    </tr>\n",
              "  </tbody>\n",
              "</table>\n",
              "<p>8 rows × 38 columns</p>\n",
              "</div>\n",
              "      <button class=\"colab-df-convert\" onclick=\"convertToInteractive('df-a92b63a7-ce8a-448d-9b0d-50d4820f14e8')\"\n",
              "              title=\"Convert this dataframe to an interactive table.\"\n",
              "              style=\"display:none;\">\n",
              "        \n",
              "  <svg xmlns=\"http://www.w3.org/2000/svg\" height=\"24px\"viewBox=\"0 0 24 24\"\n",
              "       width=\"24px\">\n",
              "    <path d=\"M0 0h24v24H0V0z\" fill=\"none\"/>\n",
              "    <path d=\"M18.56 5.44l.94 2.06.94-2.06 2.06-.94-2.06-.94-.94-2.06-.94 2.06-2.06.94zm-11 1L8.5 8.5l.94-2.06 2.06-.94-2.06-.94L8.5 2.5l-.94 2.06-2.06.94zm10 10l.94 2.06.94-2.06 2.06-.94-2.06-.94-.94-2.06-.94 2.06-2.06.94z\"/><path d=\"M17.41 7.96l-1.37-1.37c-.4-.4-.92-.59-1.43-.59-.52 0-1.04.2-1.43.59L10.3 9.45l-7.72 7.72c-.78.78-.78 2.05 0 2.83L4 21.41c.39.39.9.59 1.41.59.51 0 1.02-.2 1.41-.59l7.78-7.78 2.81-2.81c.8-.78.8-2.07 0-2.86zM5.41 20L4 18.59l7.72-7.72 1.47 1.35L5.41 20z\"/>\n",
              "  </svg>\n",
              "      </button>\n",
              "      \n",
              "  <style>\n",
              "    .colab-df-container {\n",
              "      display:flex;\n",
              "      flex-wrap:wrap;\n",
              "      gap: 12px;\n",
              "    }\n",
              "\n",
              "    .colab-df-convert {\n",
              "      background-color: #E8F0FE;\n",
              "      border: none;\n",
              "      border-radius: 50%;\n",
              "      cursor: pointer;\n",
              "      display: none;\n",
              "      fill: #1967D2;\n",
              "      height: 32px;\n",
              "      padding: 0 0 0 0;\n",
              "      width: 32px;\n",
              "    }\n",
              "\n",
              "    .colab-df-convert:hover {\n",
              "      background-color: #E2EBFA;\n",
              "      box-shadow: 0px 1px 2px rgba(60, 64, 67, 0.3), 0px 1px 3px 1px rgba(60, 64, 67, 0.15);\n",
              "      fill: #174EA6;\n",
              "    }\n",
              "\n",
              "    [theme=dark] .colab-df-convert {\n",
              "      background-color: #3B4455;\n",
              "      fill: #D2E3FC;\n",
              "    }\n",
              "\n",
              "    [theme=dark] .colab-df-convert:hover {\n",
              "      background-color: #434B5C;\n",
              "      box-shadow: 0px 1px 3px 1px rgba(0, 0, 0, 0.15);\n",
              "      filter: drop-shadow(0px 1px 2px rgba(0, 0, 0, 0.3));\n",
              "      fill: #FFFFFF;\n",
              "    }\n",
              "  </style>\n",
              "\n",
              "      <script>\n",
              "        const buttonEl =\n",
              "          document.querySelector('#df-a92b63a7-ce8a-448d-9b0d-50d4820f14e8 button.colab-df-convert');\n",
              "        buttonEl.style.display =\n",
              "          google.colab.kernel.accessAllowed ? 'block' : 'none';\n",
              "\n",
              "        async function convertToInteractive(key) {\n",
              "          const element = document.querySelector('#df-a92b63a7-ce8a-448d-9b0d-50d4820f14e8');\n",
              "          const dataTable =\n",
              "            await google.colab.kernel.invokeFunction('convertToInteractive',\n",
              "                                                     [key], {});\n",
              "          if (!dataTable) return;\n",
              "\n",
              "          const docLinkHtml = 'Like what you see? Visit the ' +\n",
              "            '<a target=\"_blank\" href=https://colab.research.google.com/notebooks/data_table.ipynb>data table notebook</a>'\n",
              "            + ' to learn more about interactive tables.';\n",
              "          element.innerHTML = '';\n",
              "          dataTable['output_type'] = 'display_data';\n",
              "          await google.colab.output.renderOutput(dataTable, element);\n",
              "          const docLink = document.createElement('div');\n",
              "          docLink.innerHTML = docLinkHtml;\n",
              "          element.appendChild(docLink);\n",
              "        }\n",
              "      </script>\n",
              "    </div>\n",
              "  </div>\n",
              "  "
            ]
          },
          "metadata": {},
          "execution_count": 4
        }
      ],
      "source": [
        "df.describe()"
      ]
    },
    {
      "cell_type": "code",
      "execution_count": 5,
      "metadata": {
        "colab": {
          "base_uri": "https://localhost:8080/"
        },
        "id": "W1OIr5PNHl2V",
        "outputId": "ca259947-b6e4-4348-9e29-cda1d351a70d"
      },
      "outputs": [
        {
          "output_type": "stream",
          "name": "stdout",
          "text": [
            "Label distribution Training set::\n",
            "normal             67343\n",
            "neptune            41214\n",
            "satan               3633\n",
            "ipsweep             3599\n",
            "portsweep           2931\n",
            "smurf               2646\n",
            "nmap                1493\n",
            "back                 956\n",
            "teardrop             892\n",
            "warezclient          890\n",
            "pod                  201\n",
            "guess_passwd          53\n",
            "buffer_overflow       30\n",
            "warezmaster           20\n",
            "land                  18\n",
            "imap                  11\n",
            "rootkit               10\n",
            "loadmodule             9\n",
            "ftp_write              8\n",
            "multihop               7\n",
            "phf                    4\n",
            "perl                   3\n",
            "spy                    2\n",
            "Name: label, dtype: int64\n",
            "\n",
            "Label distribution Test set::\n",
            "normal             9711\n",
            "neptune            4657\n",
            "guess_passwd       1231\n",
            "mscan               996\n",
            "warezmaster         944\n",
            "apache2             737\n",
            "satan               735\n",
            "processtable        685\n",
            "smurf               665\n",
            "back                359\n",
            "snmpguess           331\n",
            "saint               319\n",
            "mailbomb            293\n",
            "snmpgetattack       178\n",
            "portsweep           157\n",
            "ipsweep             141\n",
            "httptunnel          133\n",
            "nmap                 73\n",
            "pod                  41\n",
            "buffer_overflow      20\n",
            "multihop             18\n",
            "named                17\n",
            "ps                   15\n",
            "sendmail             14\n",
            "rootkit              13\n",
            "xterm                13\n",
            "teardrop             12\n",
            "xlock                 9\n",
            "land                  7\n",
            "xsnoop                4\n",
            "ftp_write             3\n",
            "worm                  2\n",
            "loadmodule            2\n",
            "perl                  2\n",
            "sqlattack             2\n",
            "udpstorm              2\n",
            "phf                   2\n",
            "imap                  1\n",
            "Name: label, dtype: int64\n"
          ]
        }
      ],
      "source": [
        "print('Label distribution Training set::')\n",
        "print(df['label'].value_counts())\n",
        "print()\n",
        "print('Label distribution Test set::')\n",
        "print(df_test['label'].value_counts())"
      ]
    },
    {
      "cell_type": "code",
      "execution_count": 6,
      "metadata": {
        "colab": {
          "base_uri": "https://localhost:8080/",
          "height": 206
        },
        "id": "-GUaRjCWH3H9",
        "outputId": "3c6d7f6f-dd81-49ba-f011-c6e8404e432f"
      },
      "outputs": [
        {
          "output_type": "execute_result",
          "data": {
            "text/plain": [
              "  protocol_type   service flag\n",
              "0           tcp  ftp_data   SF\n",
              "1           udp     other   SF\n",
              "2           tcp   private   S0\n",
              "3           tcp      http   SF\n",
              "4           tcp      http   SF"
            ],
            "text/html": [
              "\n",
              "  <div id=\"df-08df4b83-a13c-4a59-883d-b767700fbd0f\">\n",
              "    <div class=\"colab-df-container\">\n",
              "      <div>\n",
              "<style scoped>\n",
              "    .dataframe tbody tr th:only-of-type {\n",
              "        vertical-align: middle;\n",
              "    }\n",
              "\n",
              "    .dataframe tbody tr th {\n",
              "        vertical-align: top;\n",
              "    }\n",
              "\n",
              "    .dataframe thead th {\n",
              "        text-align: right;\n",
              "    }\n",
              "</style>\n",
              "<table border=\"1\" class=\"dataframe\">\n",
              "  <thead>\n",
              "    <tr style=\"text-align: right;\">\n",
              "      <th></th>\n",
              "      <th>protocol_type</th>\n",
              "      <th>service</th>\n",
              "      <th>flag</th>\n",
              "    </tr>\n",
              "  </thead>\n",
              "  <tbody>\n",
              "    <tr>\n",
              "      <th>0</th>\n",
              "      <td>tcp</td>\n",
              "      <td>ftp_data</td>\n",
              "      <td>SF</td>\n",
              "    </tr>\n",
              "    <tr>\n",
              "      <th>1</th>\n",
              "      <td>udp</td>\n",
              "      <td>other</td>\n",
              "      <td>SF</td>\n",
              "    </tr>\n",
              "    <tr>\n",
              "      <th>2</th>\n",
              "      <td>tcp</td>\n",
              "      <td>private</td>\n",
              "      <td>S0</td>\n",
              "    </tr>\n",
              "    <tr>\n",
              "      <th>3</th>\n",
              "      <td>tcp</td>\n",
              "      <td>http</td>\n",
              "      <td>SF</td>\n",
              "    </tr>\n",
              "    <tr>\n",
              "      <th>4</th>\n",
              "      <td>tcp</td>\n",
              "      <td>http</td>\n",
              "      <td>SF</td>\n",
              "    </tr>\n",
              "  </tbody>\n",
              "</table>\n",
              "</div>\n",
              "      <button class=\"colab-df-convert\" onclick=\"convertToInteractive('df-08df4b83-a13c-4a59-883d-b767700fbd0f')\"\n",
              "              title=\"Convert this dataframe to an interactive table.\"\n",
              "              style=\"display:none;\">\n",
              "        \n",
              "  <svg xmlns=\"http://www.w3.org/2000/svg\" height=\"24px\"viewBox=\"0 0 24 24\"\n",
              "       width=\"24px\">\n",
              "    <path d=\"M0 0h24v24H0V0z\" fill=\"none\"/>\n",
              "    <path d=\"M18.56 5.44l.94 2.06.94-2.06 2.06-.94-2.06-.94-.94-2.06-.94 2.06-2.06.94zm-11 1L8.5 8.5l.94-2.06 2.06-.94-2.06-.94L8.5 2.5l-.94 2.06-2.06.94zm10 10l.94 2.06.94-2.06 2.06-.94-2.06-.94-.94-2.06-.94 2.06-2.06.94z\"/><path d=\"M17.41 7.96l-1.37-1.37c-.4-.4-.92-.59-1.43-.59-.52 0-1.04.2-1.43.59L10.3 9.45l-7.72 7.72c-.78.78-.78 2.05 0 2.83L4 21.41c.39.39.9.59 1.41.59.51 0 1.02-.2 1.41-.59l7.78-7.78 2.81-2.81c.8-.78.8-2.07 0-2.86zM5.41 20L4 18.59l7.72-7.72 1.47 1.35L5.41 20z\"/>\n",
              "  </svg>\n",
              "      </button>\n",
              "      \n",
              "  <style>\n",
              "    .colab-df-container {\n",
              "      display:flex;\n",
              "      flex-wrap:wrap;\n",
              "      gap: 12px;\n",
              "    }\n",
              "\n",
              "    .colab-df-convert {\n",
              "      background-color: #E8F0FE;\n",
              "      border: none;\n",
              "      border-radius: 50%;\n",
              "      cursor: pointer;\n",
              "      display: none;\n",
              "      fill: #1967D2;\n",
              "      height: 32px;\n",
              "      padding: 0 0 0 0;\n",
              "      width: 32px;\n",
              "    }\n",
              "\n",
              "    .colab-df-convert:hover {\n",
              "      background-color: #E2EBFA;\n",
              "      box-shadow: 0px 1px 2px rgba(60, 64, 67, 0.3), 0px 1px 3px 1px rgba(60, 64, 67, 0.15);\n",
              "      fill: #174EA6;\n",
              "    }\n",
              "\n",
              "    [theme=dark] .colab-df-convert {\n",
              "      background-color: #3B4455;\n",
              "      fill: #D2E3FC;\n",
              "    }\n",
              "\n",
              "    [theme=dark] .colab-df-convert:hover {\n",
              "      background-color: #434B5C;\n",
              "      box-shadow: 0px 1px 3px 1px rgba(0, 0, 0, 0.15);\n",
              "      filter: drop-shadow(0px 1px 2px rgba(0, 0, 0, 0.3));\n",
              "      fill: #FFFFFF;\n",
              "    }\n",
              "  </style>\n",
              "\n",
              "      <script>\n",
              "        const buttonEl =\n",
              "          document.querySelector('#df-08df4b83-a13c-4a59-883d-b767700fbd0f button.colab-df-convert');\n",
              "        buttonEl.style.display =\n",
              "          google.colab.kernel.accessAllowed ? 'block' : 'none';\n",
              "\n",
              "        async function convertToInteractive(key) {\n",
              "          const element = document.querySelector('#df-08df4b83-a13c-4a59-883d-b767700fbd0f');\n",
              "          const dataTable =\n",
              "            await google.colab.kernel.invokeFunction('convertToInteractive',\n",
              "                                                     [key], {});\n",
              "          if (!dataTable) return;\n",
              "\n",
              "          const docLinkHtml = 'Like what you see? Visit the ' +\n",
              "            '<a target=\"_blank\" href=https://colab.research.google.com/notebooks/data_table.ipynb>data table notebook</a>'\n",
              "            + ' to learn more about interactive tables.';\n",
              "          element.innerHTML = '';\n",
              "          dataTable['output_type'] = 'display_data';\n",
              "          await google.colab.output.renderOutput(dataTable, element);\n",
              "          const docLink = document.createElement('div');\n",
              "          docLink.innerHTML = docLinkHtml;\n",
              "          element.appendChild(docLink);\n",
              "        }\n",
              "      </script>\n",
              "    </div>\n",
              "  </div>\n",
              "  "
            ]
          },
          "metadata": {},
          "execution_count": 6
        }
      ],
      "source": [
        "from sklearn.preprocessing import LabelEncoder,OneHotEncoder\n",
        "categorical_columns1=['protocol_type', 'service', 'flag']\n",
        "categorical_columns2=['protocol_type', 'service', 'flag'] \n",
        "df_categorical_values = df[categorical_columns1]\n",
        "testdf_categorical_values = df_test[categorical_columns2]\n",
        "df_categorical_values.head()"
      ]
    },
    {
      "cell_type": "code",
      "execution_count": 7,
      "metadata": {
        "colab": {
          "base_uri": "https://localhost:8080/"
        },
        "id": "4sYAnVAlIRIE",
        "outputId": "f3fab69e-303b-4ed9-bc44-ec9a33105ccc"
      },
      "outputs": [
        {
          "output_type": "stream",
          "name": "stdout",
          "text": [
            "['Protocol_type_icmp', 'Protocol_type_tcp', 'Protocol_type_udp', 'service_IRC', 'service_X11', 'service_Z39_50', 'service_aol', 'service_auth', 'service_bgp', 'service_courier', 'service_csnet_ns', 'service_ctf', 'service_daytime', 'service_discard', 'service_domain', 'service_domain_u', 'service_echo', 'service_eco_i', 'service_ecr_i', 'service_efs', 'service_exec', 'service_finger', 'service_ftp', 'service_ftp_data', 'service_gopher', 'service_harvest', 'service_hostnames', 'service_http', 'service_http_2784', 'service_http_443', 'service_http_8001', 'service_imap4', 'service_iso_tsap', 'service_klogin', 'service_kshell', 'service_ldap', 'service_link', 'service_login', 'service_mtp', 'service_name', 'service_netbios_dgm', 'service_netbios_ns', 'service_netbios_ssn', 'service_netstat', 'service_nnsp', 'service_nntp', 'service_ntp_u', 'service_other', 'service_pm_dump', 'service_pop_2', 'service_pop_3', 'service_printer', 'service_private', 'service_red_i', 'service_remote_job', 'service_rje', 'service_shell', 'service_smtp', 'service_sql_net', 'service_ssh', 'service_sunrpc', 'service_supdup', 'service_systat', 'service_telnet', 'service_tftp_u', 'service_tim_i', 'service_time', 'service_urh_i', 'service_urp_i', 'service_uucp', 'service_uucp_path', 'service_vmnet', 'service_whois', 'flag_OTH', 'flag_REJ', 'flag_RSTO', 'flag_RSTOS0', 'flag_RSTR', 'flag_S0', 'flag_S1', 'flag_S2', 'flag_S3', 'flag_SF', 'flag_SH']\n"
          ]
        }
      ],
      "source": [
        "unique_protocol=sorted(df.protocol_type.unique())\n",
        "string1 = 'Protocol_type_'\n",
        "unique_protocol2=[string1 + x for x in unique_protocol]\n",
        "unique_service=sorted(df.service.unique())\n",
        "string2 = 'service_'\n",
        "unique_service2=[string2 + x for x in unique_service]\n",
        "unique_flag=sorted(df.flag.unique())\n",
        "string3 = 'flag_'\n",
        "unique_flag2=[string3 + x for x in unique_flag]\n",
        "dumcols=unique_protocol2 + unique_service2 + unique_flag2\n",
        "print(dumcols)\n",
        "unique_service_test=sorted(df_test.service.unique())\n",
        "unique_service2_test=[string2 + x for x in unique_service_test]\n",
        "testdumcols=unique_protocol2 + unique_service2_test + unique_flag2"
      ]
    },
    {
      "cell_type": "code",
      "execution_count": 8,
      "metadata": {
        "colab": {
          "base_uri": "https://localhost:8080/"
        },
        "id": "drVhilFgOCNy",
        "outputId": "677aa606-1900-4c98-e7d3-9cf9c8694e53"
      },
      "outputs": [
        {
          "output_type": "stream",
          "name": "stdout",
          "text": [
            "   protocol_type  service  flag\n",
            "0              1       20     9\n",
            "1              2       44     9\n",
            "2              1       49     5\n",
            "3              1       24     9\n",
            "4              1       24     9\n",
            "   protocol_type  service  flag\n",
            "0              1       45     1\n",
            "1              1       45     1\n",
            "2              1       19     9\n",
            "3              0       13     9\n",
            "4              1       55     2\n"
          ]
        }
      ],
      "source": [
        "df_categorical_values_enc=df_categorical_values.apply(LabelEncoder().fit_transform)\n",
        "print(df_categorical_values_enc.head())\n",
        "testdf_categorical_values_enc=testdf_categorical_values.apply(LabelEncoder().fit_transform)\n",
        "print(testdf_categorical_values_enc.head())"
      ]
    },
    {
      "cell_type": "code",
      "execution_count": 9,
      "metadata": {
        "colab": {
          "base_uri": "https://localhost:8080/",
          "height": 300
        },
        "id": "vfFM4NSYOPH3",
        "outputId": "e787c2d4-7ea0-4904-c234-69e5d977c3a7"
      },
      "outputs": [
        {
          "output_type": "execute_result",
          "data": {
            "text/plain": [
              "   Protocol_type_icmp  Protocol_type_tcp  Protocol_type_udp  service_IRC  \\\n",
              "0                 0.0                1.0                0.0          0.0   \n",
              "1                 0.0                0.0                1.0          0.0   \n",
              "2                 0.0                1.0                0.0          0.0   \n",
              "3                 0.0                1.0                0.0          0.0   \n",
              "4                 0.0                1.0                0.0          0.0   \n",
              "\n",
              "   service_X11  service_Z39_50  service_aol  service_auth  service_bgp  \\\n",
              "0          0.0             0.0          0.0           0.0          0.0   \n",
              "1          0.0             0.0          0.0           0.0          0.0   \n",
              "2          0.0             0.0          0.0           0.0          0.0   \n",
              "3          0.0             0.0          0.0           0.0          0.0   \n",
              "4          0.0             0.0          0.0           0.0          0.0   \n",
              "\n",
              "   service_courier  ...  flag_REJ  flag_RSTO  flag_RSTOS0  flag_RSTR  flag_S0  \\\n",
              "0              0.0  ...       0.0        0.0          0.0        0.0      0.0   \n",
              "1              0.0  ...       0.0        0.0          0.0        0.0      0.0   \n",
              "2              0.0  ...       0.0        0.0          0.0        0.0      1.0   \n",
              "3              0.0  ...       0.0        0.0          0.0        0.0      0.0   \n",
              "4              0.0  ...       0.0        0.0          0.0        0.0      0.0   \n",
              "\n",
              "   flag_S1  flag_S2  flag_S3  flag_SF  flag_SH  \n",
              "0      0.0      0.0      0.0      1.0      0.0  \n",
              "1      0.0      0.0      0.0      1.0      0.0  \n",
              "2      0.0      0.0      0.0      0.0      0.0  \n",
              "3      0.0      0.0      0.0      1.0      0.0  \n",
              "4      0.0      0.0      0.0      1.0      0.0  \n",
              "\n",
              "[5 rows x 84 columns]"
            ],
            "text/html": [
              "\n",
              "  <div id=\"df-e7fd93fb-cf7c-4211-96b8-2d7724a67793\">\n",
              "    <div class=\"colab-df-container\">\n",
              "      <div>\n",
              "<style scoped>\n",
              "    .dataframe tbody tr th:only-of-type {\n",
              "        vertical-align: middle;\n",
              "    }\n",
              "\n",
              "    .dataframe tbody tr th {\n",
              "        vertical-align: top;\n",
              "    }\n",
              "\n",
              "    .dataframe thead th {\n",
              "        text-align: right;\n",
              "    }\n",
              "</style>\n",
              "<table border=\"1\" class=\"dataframe\">\n",
              "  <thead>\n",
              "    <tr style=\"text-align: right;\">\n",
              "      <th></th>\n",
              "      <th>Protocol_type_icmp</th>\n",
              "      <th>Protocol_type_tcp</th>\n",
              "      <th>Protocol_type_udp</th>\n",
              "      <th>service_IRC</th>\n",
              "      <th>service_X11</th>\n",
              "      <th>service_Z39_50</th>\n",
              "      <th>service_aol</th>\n",
              "      <th>service_auth</th>\n",
              "      <th>service_bgp</th>\n",
              "      <th>service_courier</th>\n",
              "      <th>...</th>\n",
              "      <th>flag_REJ</th>\n",
              "      <th>flag_RSTO</th>\n",
              "      <th>flag_RSTOS0</th>\n",
              "      <th>flag_RSTR</th>\n",
              "      <th>flag_S0</th>\n",
              "      <th>flag_S1</th>\n",
              "      <th>flag_S2</th>\n",
              "      <th>flag_S3</th>\n",
              "      <th>flag_SF</th>\n",
              "      <th>flag_SH</th>\n",
              "    </tr>\n",
              "  </thead>\n",
              "  <tbody>\n",
              "    <tr>\n",
              "      <th>0</th>\n",
              "      <td>0.0</td>\n",
              "      <td>1.0</td>\n",
              "      <td>0.0</td>\n",
              "      <td>0.0</td>\n",
              "      <td>0.0</td>\n",
              "      <td>0.0</td>\n",
              "      <td>0.0</td>\n",
              "      <td>0.0</td>\n",
              "      <td>0.0</td>\n",
              "      <td>0.0</td>\n",
              "      <td>...</td>\n",
              "      <td>0.0</td>\n",
              "      <td>0.0</td>\n",
              "      <td>0.0</td>\n",
              "      <td>0.0</td>\n",
              "      <td>0.0</td>\n",
              "      <td>0.0</td>\n",
              "      <td>0.0</td>\n",
              "      <td>0.0</td>\n",
              "      <td>1.0</td>\n",
              "      <td>0.0</td>\n",
              "    </tr>\n",
              "    <tr>\n",
              "      <th>1</th>\n",
              "      <td>0.0</td>\n",
              "      <td>0.0</td>\n",
              "      <td>1.0</td>\n",
              "      <td>0.0</td>\n",
              "      <td>0.0</td>\n",
              "      <td>0.0</td>\n",
              "      <td>0.0</td>\n",
              "      <td>0.0</td>\n",
              "      <td>0.0</td>\n",
              "      <td>0.0</td>\n",
              "      <td>...</td>\n",
              "      <td>0.0</td>\n",
              "      <td>0.0</td>\n",
              "      <td>0.0</td>\n",
              "      <td>0.0</td>\n",
              "      <td>0.0</td>\n",
              "      <td>0.0</td>\n",
              "      <td>0.0</td>\n",
              "      <td>0.0</td>\n",
              "      <td>1.0</td>\n",
              "      <td>0.0</td>\n",
              "    </tr>\n",
              "    <tr>\n",
              "      <th>2</th>\n",
              "      <td>0.0</td>\n",
              "      <td>1.0</td>\n",
              "      <td>0.0</td>\n",
              "      <td>0.0</td>\n",
              "      <td>0.0</td>\n",
              "      <td>0.0</td>\n",
              "      <td>0.0</td>\n",
              "      <td>0.0</td>\n",
              "      <td>0.0</td>\n",
              "      <td>0.0</td>\n",
              "      <td>...</td>\n",
              "      <td>0.0</td>\n",
              "      <td>0.0</td>\n",
              "      <td>0.0</td>\n",
              "      <td>0.0</td>\n",
              "      <td>1.0</td>\n",
              "      <td>0.0</td>\n",
              "      <td>0.0</td>\n",
              "      <td>0.0</td>\n",
              "      <td>0.0</td>\n",
              "      <td>0.0</td>\n",
              "    </tr>\n",
              "    <tr>\n",
              "      <th>3</th>\n",
              "      <td>0.0</td>\n",
              "      <td>1.0</td>\n",
              "      <td>0.0</td>\n",
              "      <td>0.0</td>\n",
              "      <td>0.0</td>\n",
              "      <td>0.0</td>\n",
              "      <td>0.0</td>\n",
              "      <td>0.0</td>\n",
              "      <td>0.0</td>\n",
              "      <td>0.0</td>\n",
              "      <td>...</td>\n",
              "      <td>0.0</td>\n",
              "      <td>0.0</td>\n",
              "      <td>0.0</td>\n",
              "      <td>0.0</td>\n",
              "      <td>0.0</td>\n",
              "      <td>0.0</td>\n",
              "      <td>0.0</td>\n",
              "      <td>0.0</td>\n",
              "      <td>1.0</td>\n",
              "      <td>0.0</td>\n",
              "    </tr>\n",
              "    <tr>\n",
              "      <th>4</th>\n",
              "      <td>0.0</td>\n",
              "      <td>1.0</td>\n",
              "      <td>0.0</td>\n",
              "      <td>0.0</td>\n",
              "      <td>0.0</td>\n",
              "      <td>0.0</td>\n",
              "      <td>0.0</td>\n",
              "      <td>0.0</td>\n",
              "      <td>0.0</td>\n",
              "      <td>0.0</td>\n",
              "      <td>...</td>\n",
              "      <td>0.0</td>\n",
              "      <td>0.0</td>\n",
              "      <td>0.0</td>\n",
              "      <td>0.0</td>\n",
              "      <td>0.0</td>\n",
              "      <td>0.0</td>\n",
              "      <td>0.0</td>\n",
              "      <td>0.0</td>\n",
              "      <td>1.0</td>\n",
              "      <td>0.0</td>\n",
              "    </tr>\n",
              "  </tbody>\n",
              "</table>\n",
              "<p>5 rows × 84 columns</p>\n",
              "</div>\n",
              "      <button class=\"colab-df-convert\" onclick=\"convertToInteractive('df-e7fd93fb-cf7c-4211-96b8-2d7724a67793')\"\n",
              "              title=\"Convert this dataframe to an interactive table.\"\n",
              "              style=\"display:none;\">\n",
              "        \n",
              "  <svg xmlns=\"http://www.w3.org/2000/svg\" height=\"24px\"viewBox=\"0 0 24 24\"\n",
              "       width=\"24px\">\n",
              "    <path d=\"M0 0h24v24H0V0z\" fill=\"none\"/>\n",
              "    <path d=\"M18.56 5.44l.94 2.06.94-2.06 2.06-.94-2.06-.94-.94-2.06-.94 2.06-2.06.94zm-11 1L8.5 8.5l.94-2.06 2.06-.94-2.06-.94L8.5 2.5l-.94 2.06-2.06.94zm10 10l.94 2.06.94-2.06 2.06-.94-2.06-.94-.94-2.06-.94 2.06-2.06.94z\"/><path d=\"M17.41 7.96l-1.37-1.37c-.4-.4-.92-.59-1.43-.59-.52 0-1.04.2-1.43.59L10.3 9.45l-7.72 7.72c-.78.78-.78 2.05 0 2.83L4 21.41c.39.39.9.59 1.41.59.51 0 1.02-.2 1.41-.59l7.78-7.78 2.81-2.81c.8-.78.8-2.07 0-2.86zM5.41 20L4 18.59l7.72-7.72 1.47 1.35L5.41 20z\"/>\n",
              "  </svg>\n",
              "      </button>\n",
              "      \n",
              "  <style>\n",
              "    .colab-df-container {\n",
              "      display:flex;\n",
              "      flex-wrap:wrap;\n",
              "      gap: 12px;\n",
              "    }\n",
              "\n",
              "    .colab-df-convert {\n",
              "      background-color: #E8F0FE;\n",
              "      border: none;\n",
              "      border-radius: 50%;\n",
              "      cursor: pointer;\n",
              "      display: none;\n",
              "      fill: #1967D2;\n",
              "      height: 32px;\n",
              "      padding: 0 0 0 0;\n",
              "      width: 32px;\n",
              "    }\n",
              "\n",
              "    .colab-df-convert:hover {\n",
              "      background-color: #E2EBFA;\n",
              "      box-shadow: 0px 1px 2px rgba(60, 64, 67, 0.3), 0px 1px 3px 1px rgba(60, 64, 67, 0.15);\n",
              "      fill: #174EA6;\n",
              "    }\n",
              "\n",
              "    [theme=dark] .colab-df-convert {\n",
              "      background-color: #3B4455;\n",
              "      fill: #D2E3FC;\n",
              "    }\n",
              "\n",
              "    [theme=dark] .colab-df-convert:hover {\n",
              "      background-color: #434B5C;\n",
              "      box-shadow: 0px 1px 3px 1px rgba(0, 0, 0, 0.15);\n",
              "      filter: drop-shadow(0px 1px 2px rgba(0, 0, 0, 0.3));\n",
              "      fill: #FFFFFF;\n",
              "    }\n",
              "  </style>\n",
              "\n",
              "      <script>\n",
              "        const buttonEl =\n",
              "          document.querySelector('#df-e7fd93fb-cf7c-4211-96b8-2d7724a67793 button.colab-df-convert');\n",
              "        buttonEl.style.display =\n",
              "          google.colab.kernel.accessAllowed ? 'block' : 'none';\n",
              "\n",
              "        async function convertToInteractive(key) {\n",
              "          const element = document.querySelector('#df-e7fd93fb-cf7c-4211-96b8-2d7724a67793');\n",
              "          const dataTable =\n",
              "            await google.colab.kernel.invokeFunction('convertToInteractive',\n",
              "                                                     [key], {});\n",
              "          if (!dataTable) return;\n",
              "\n",
              "          const docLinkHtml = 'Like what you see? Visit the ' +\n",
              "            '<a target=\"_blank\" href=https://colab.research.google.com/notebooks/data_table.ipynb>data table notebook</a>'\n",
              "            + ' to learn more about interactive tables.';\n",
              "          element.innerHTML = '';\n",
              "          dataTable['output_type'] = 'display_data';\n",
              "          await google.colab.output.renderOutput(dataTable, element);\n",
              "          const docLink = document.createElement('div');\n",
              "          docLink.innerHTML = docLinkHtml;\n",
              "          element.appendChild(docLink);\n",
              "        }\n",
              "      </script>\n",
              "    </div>\n",
              "  </div>\n",
              "  "
            ]
          },
          "metadata": {},
          "execution_count": 9
        }
      ],
      "source": [
        "enc = OneHotEncoder()\n",
        "df_categorical_values_encenc = enc.fit_transform(df_categorical_values_enc)\n",
        "df_cat_data = pd.DataFrame(df_categorical_values_encenc.toarray(),columns=dumcols)\n",
        "testdf_categorical_values_encenc = enc.fit_transform(testdf_categorical_values_enc)\n",
        "testdf_cat_data = pd.DataFrame(testdf_categorical_values_encenc.toarray(),columns=testdumcols)\n",
        "df_cat_data.head()"
      ]
    },
    {
      "cell_type": "code",
      "execution_count": 10,
      "metadata": {
        "colab": {
          "base_uri": "https://localhost:8080/"
        },
        "id": "jyVf4p1hZl4J",
        "outputId": "3e42a5bb-98a6-40b5-ebae-9af07fc3f3c5"
      },
      "outputs": [
        {
          "output_type": "execute_result",
          "data": {
            "text/plain": [
              "['service_red_i',\n",
              " 'service_urh_i',\n",
              " 'service_harvest',\n",
              " 'service_aol',\n",
              " 'service_http_8001',\n",
              " 'service_http_2784']"
            ]
          },
          "metadata": {},
          "execution_count": 10
        }
      ],
      "source": [
        "trainservice=df['service'].tolist()\n",
        "testservice= df_test['service'].tolist()\n",
        "difference=list(set(trainservice) - set(testservice))\n",
        "string = 'service_'\n",
        "difference=[string + x for x in difference]\n",
        "difference"
      ]
    },
    {
      "cell_type": "code",
      "execution_count": 11,
      "metadata": {
        "colab": {
          "base_uri": "https://localhost:8080/"
        },
        "id": "1eRF-ALtbgPE",
        "outputId": "79c62aeb-e0b3-4f7c-a6f5-433fe2598967"
      },
      "outputs": [
        {
          "output_type": "execute_result",
          "data": {
            "text/plain": [
              "(22544, 84)"
            ]
          },
          "metadata": {},
          "execution_count": 11
        }
      ],
      "source": [
        "for col in difference:\n",
        "    testdf_cat_data[col] = 0\n",
        "\n",
        "testdf_cat_data.shape"
      ]
    },
    {
      "cell_type": "code",
      "execution_count": 12,
      "metadata": {
        "colab": {
          "base_uri": "https://localhost:8080/"
        },
        "id": "cIWO5vbdbqdJ",
        "outputId": "d48fc037-b80d-4941-ee55-30cafd91bba9"
      },
      "outputs": [
        {
          "output_type": "stream",
          "name": "stdout",
          "text": [
            "(125973, 123)\n",
            "(22544, 123)\n"
          ]
        }
      ],
      "source": [
        "newdf=df.join(df_cat_data)\n",
        "newdf.drop('flag', axis=1, inplace=True)\n",
        "newdf.drop('protocol_type', axis=1, inplace=True)\n",
        "newdf.drop('service', axis=1, inplace=True)\n",
        "newdf_test=df_test.join(testdf_cat_data)\n",
        "newdf_test.drop('flag', axis=1, inplace=True)\n",
        "newdf_test.drop('protocol_type', axis=1, inplace=True)\n",
        "newdf_test.drop('service', axis=1, inplace=True)\n",
        "print(newdf.shape)\n",
        "print(newdf_test.shape)"
      ]
    },
    {
      "cell_type": "code",
      "execution_count": 13,
      "metadata": {
        "colab": {
          "base_uri": "https://localhost:8080/"
        },
        "id": "FR14R8k7bxR6",
        "outputId": "99495ced-923c-428f-b67b-cca03a656a91"
      },
      "outputs": [
        {
          "output_type": "stream",
          "name": "stdout",
          "text": [
            "0    0\n",
            "1    0\n",
            "2    1\n",
            "3    0\n",
            "4    0\n",
            "Name: label, dtype: int64\n"
          ]
        }
      ],
      "source": [
        "labeldf=newdf['label']\n",
        "labeldf_test=newdf_test['label']\n",
        "newlabeldf=labeldf.replace({ 'normal' : 0, 'neptune' : 1 ,'back': 1, 'land': 1, 'pod': 1, 'smurf': 1, 'teardrop': 1,'mailbomb': 1, 'apache2': 1, 'processtable': 1, 'udpstorm': 1, 'worm': 1,\n",
        "                           'ipsweep' : 2,'nmap' : 2,'portsweep' : 2,'satan' : 2,'mscan' : 2,'saint' : 2\n",
        "                           ,'ftp_write': 3,'guess_passwd': 3,'imap': 3,'multihop': 3,'phf': 3,'spy': 3,'warezclient': 3,'warezmaster': 3,'sendmail': 3,'named': 3,'snmpgetattack': 3,'snmpguess': 3,'xlock': 3,'xsnoop': 3,'httptunnel': 3,\n",
        "                           'buffer_overflow': 4,'loadmodule': 4,'perl': 4,'rootkit': 4,'ps': 4,'sqlattack': 4,'xterm': 4})\n",
        "newlabeldf_test=labeldf_test.replace({ 'normal' : 0, 'neptune' : 1 ,'back': 1, 'land': 1, 'pod': 1, 'smurf': 1, 'teardrop': 1,'mailbomb': 1, 'apache2': 1, 'processtable': 1, 'udpstorm': 1, 'worm': 1,\n",
        "                           'ipsweep' : 2,'nmap' : 2,'portsweep' : 2,'satan' : 2,'mscan' : 2,'saint' : 2\n",
        "                           ,'ftp_write': 3,'guess_passwd': 3,'imap': 3,'multihop': 3,'phf': 3,'spy': 3,'warezclient': 3,'warezmaster': 3,'sendmail': 3,'named': 3,'snmpgetattack': 3,'snmpguess': 3,'xlock': 3,'xsnoop': 3,'httptunnel': 3,\n",
        "                           'buffer_overflow': 4,'loadmodule': 4,'perl': 4,'rootkit': 4,'ps': 4,'sqlattack': 4,'xterm': 4})\n",
        "newdf['label'] = newlabeldf\n",
        "newdf_test['label'] = newlabeldf_test\n",
        "print(newdf['label'].head())"
      ]
    },
    {
      "cell_type": "code",
      "execution_count": 14,
      "metadata": {
        "colab": {
          "base_uri": "https://localhost:8080/"
        },
        "id": "k0JwwqmXb6J-",
        "outputId": "0bd9e47f-3123-40c8-e761-379a385e58c4"
      },
      "outputs": [
        {
          "output_type": "stream",
          "name": "stdout",
          "text": [
            "Train:\n",
            "Dimensions of Pre: (125973, 123)\n",
            "Dimensions of DoS: (113270, 123)\n",
            "Dimensions of Probe: (78999, 123)\n",
            "Dimensions of R2L: (68338, 123)\n",
            "Dimensions of U2R: (67395, 123)\n",
            "Test:\n",
            "Dimensions of Pre: (22544, 123)\n",
            "Dimensions of DoS: (17171, 123)\n",
            "Dimensions of Probe: (12132, 123)\n",
            "Dimensions of R2L: (12596, 123)\n",
            "Dimensions of U2R: (9778, 123)\n"
          ]
        }
      ],
      "source": [
        "to_drop_Pre = []\n",
        "to_drop_DoS = [2,3,4]\n",
        "to_drop_Probe = [1,3,4]\n",
        "to_drop_R2L = [1,2,4]\n",
        "to_drop_U2R = [1,2,3]\n",
        "Pre_df=newdf[~newdf['label'].isin(to_drop_Pre)];\n",
        "DoS_df=newdf[~newdf['label'].isin(to_drop_DoS)];\n",
        "Probe_df=newdf[~newdf['label'].isin(to_drop_Probe)];\n",
        "R2L_df=newdf[~newdf['label'].isin(to_drop_R2L)];\n",
        "U2R_df=newdf[~newdf['label'].isin(to_drop_U2R)];\n",
        "\n",
        "Pre_df_test=newdf_test[~newdf_test['label'].isin(to_drop_Pre)];\n",
        "DoS_df_test=newdf_test[~newdf_test['label'].isin(to_drop_DoS)];\n",
        "Probe_df_test=newdf_test[~newdf_test['label'].isin(to_drop_Probe)];\n",
        "R2L_df_test=newdf_test[~newdf_test['label'].isin(to_drop_R2L)];\n",
        "U2R_df_test=newdf_test[~newdf_test['label'].isin(to_drop_U2R)];\n",
        "print('Train:')\n",
        "print('Dimensions of Pre:' ,Pre_df.shape)\n",
        "print('Dimensions of DoS:' ,DoS_df.shape)\n",
        "print('Dimensions of Probe:' ,Probe_df.shape)\n",
        "print('Dimensions of R2L:' ,R2L_df.shape)\n",
        "print('Dimensions of U2R:' ,U2R_df.shape)\n",
        "print('Test:')\n",
        "print('Dimensions of Pre:' ,Pre_df_test.shape)\n",
        "print('Dimensions of DoS:' ,DoS_df_test.shape)\n",
        "print('Dimensions of Probe:' ,Probe_df_test.shape)\n",
        "print('Dimensions of R2L:' ,R2L_df_test.shape)\n",
        "print('Dimensions of U2R:' ,U2R_df_test.shape)"
      ]
    },
    {
      "cell_type": "code",
      "execution_count": 15,
      "metadata": {
        "id": "ReJZ85wkLr0l"
      },
      "outputs": [],
      "source": [
        "Pre_df.to_csv('/content/drive/MyDrive/Dataset/NSL-KDD_Preprocessed/kddpretrainPre.csv', index=False)\n",
        "Pre_df_test.to_csv('/content/drive/MyDrive/Dataset/NSL-KDD_Preprocessed/kddpretestPre.csv', index=False)"
      ]
    },
    {
      "cell_type": "code",
      "execution_count": 16,
      "metadata": {
        "id": "AsPCYQaCMbIX"
      },
      "outputs": [],
      "source": [
        "DoS_df.to_csv('/content/drive/MyDrive/Dataset/NSL-KDD_Preprocessed/kddpretraindos.csv', index=False)\n",
        "DoS_df_test.to_csv('/content/drive/MyDrive/Dataset/NSL-KDD_Preprocessed/kddpretestdos.csv', index=False)\n",
        "Probe_df.to_csv('/content/drive/MyDrive/Dataset/NSL-KDD_Preprocessed/kddpretrainProb.csv', index=False)\n",
        "Probe_df_test.to_csv('/content/drive/MyDrive/Dataset/NSL-KDD_Preprocessed/kddpretestProb.csv', index=False)\n",
        "R2L_df.to_csv('/content/drive/MyDrive/Dataset/NSL-KDD_Preprocessed/kddpretrainR2L.csv', index=False)\n",
        "R2L_df_test.to_csv('/content/drive/MyDrive/Dataset/NSL-KDD_Preprocessed/kddpretestR2l.csv', index=False)\n",
        "U2R_df.to_csv('/content/drive/MyDrive/Dataset/NSL-KDD_Preprocessed/kddpretrainU2R.csv', index=False)\n",
        "U2R_df_test.to_csv('/content/drive/MyDrive/Dataset/NSL-KDD_Preprocessed/kddpretestU2R.csv', index=False)"
      ]
    },
    {
      "cell_type": "code",
      "execution_count": 17,
      "metadata": {
        "id": "waEjPyfPRrIs"
      },
      "outputs": [],
      "source": [
        "import pandas as pd\n",
        "import numpy as np\n",
        "import sys\n",
        "import sklearn"
      ]
    },
    {
      "cell_type": "code",
      "execution_count": 18,
      "metadata": {
        "id": "Cda4FqL5Ru44"
      },
      "outputs": [],
      "source": [
        "Normal_df = pd.read_csv('/content/drive/MyDrive/Dataset/NSL-KDD_Preprocessed/kddpretrainPre.csv')\n",
        "Normal_df_test = pd.read_csv('/content/drive/MyDrive/Dataset/NSL-KDD_Preprocessed/kddpretestPre.csv')\n",
        "DoS_df = pd.read_csv('/content/drive/MyDrive/Dataset/NSL-KDD_Preprocessed/kddpretraindos.csv')\n",
        "DoS_df_test = pd.read_csv('/content/drive/MyDrive/Dataset/NSL-KDD_Preprocessed/kddpretestdos.csv')\n",
        "Probe_df = pd.read_csv('/content/drive/MyDrive/Dataset/NSL-KDD_Preprocessed/kddpretrainProb.csv')\n",
        "Probe_df_test = pd.read_csv('/content/drive/MyDrive/Dataset/NSL-KDD_Preprocessed/kddpretestProb.csv')\n",
        "R2L_df = pd.read_csv('/content/drive/MyDrive/Dataset/NSL-KDD_Preprocessed/kddpretrainR2L.csv')\n",
        "R2L_df_test = pd.read_csv('/content/drive/MyDrive/Dataset/NSL-KDD_Preprocessed/kddpretestR2l.csv')\n",
        "U2R_df = pd.read_csv('/content/drive/MyDrive/Dataset/NSL-KDD_Preprocessed/kddpretrainU2R.csv')\n",
        "U2R_df_test = pd.read_csv('/content/drive/MyDrive/Dataset/NSL-KDD_Preprocessed/kddpretestU2R.csv')"
      ]
    },
    {
      "cell_type": "code",
      "execution_count": 19,
      "metadata": {
        "colab": {
          "base_uri": "https://localhost:8080/"
        },
        "id": "6OYflSNdSNto",
        "outputId": "e4ec9f20-46b0-4e02-9eb8-28d62f7283c6"
      },
      "outputs": [
        {
          "output_type": "stream",
          "name": "stderr",
          "text": [
            "/usr/local/lib/python3.7/dist-packages/ipykernel_launcher.py:3: FutureWarning: In a future version of pandas all arguments of DataFrame.drop except for the argument 'labels' will be keyword-only\n",
            "  This is separate from the ipykernel package so we can avoid doing imports until\n",
            "/usr/local/lib/python3.7/dist-packages/ipykernel_launcher.py:6: FutureWarning: In a future version of pandas all arguments of DataFrame.drop except for the argument 'labels' will be keyword-only\n",
            "  \n",
            "/usr/local/lib/python3.7/dist-packages/ipykernel_launcher.py:9: FutureWarning: In a future version of pandas all arguments of DataFrame.drop except for the argument 'labels' will be keyword-only\n",
            "  if __name__ == '__main__':\n",
            "/usr/local/lib/python3.7/dist-packages/ipykernel_launcher.py:12: FutureWarning: In a future version of pandas all arguments of DataFrame.drop except for the argument 'labels' will be keyword-only\n",
            "  if sys.path[0] == '':\n",
            "/usr/local/lib/python3.7/dist-packages/ipykernel_launcher.py:15: FutureWarning: In a future version of pandas all arguments of DataFrame.drop except for the argument 'labels' will be keyword-only\n",
            "  from ipykernel import kernelapp as app\n",
            "/usr/local/lib/python3.7/dist-packages/ipykernel_launcher.py:19: FutureWarning: In a future version of pandas all arguments of DataFrame.drop except for the argument 'labels' will be keyword-only\n",
            "/usr/local/lib/python3.7/dist-packages/ipykernel_launcher.py:22: FutureWarning: In a future version of pandas all arguments of DataFrame.drop except for the argument 'labels' will be keyword-only\n",
            "/usr/local/lib/python3.7/dist-packages/ipykernel_launcher.py:25: FutureWarning: In a future version of pandas all arguments of DataFrame.drop except for the argument 'labels' will be keyword-only\n",
            "/usr/local/lib/python3.7/dist-packages/ipykernel_launcher.py:28: FutureWarning: In a future version of pandas all arguments of DataFrame.drop except for the argument 'labels' will be keyword-only\n",
            "/usr/local/lib/python3.7/dist-packages/ipykernel_launcher.py:31: FutureWarning: In a future version of pandas all arguments of DataFrame.drop except for the argument 'labels' will be keyword-only\n"
          ]
        }
      ],
      "source": [
        "# train set\n",
        "\n",
        "X_Normal = Normal_df.drop('label',1)\n",
        "Y_Normal = Normal_df.label\n",
        "\n",
        "X_DoS = DoS_df.drop('label',1)\n",
        "Y_DoS = DoS_df.label\n",
        "\n",
        "X_Probe = Probe_df.drop('label',1)\n",
        "Y_Probe = Probe_df.label\n",
        "\n",
        "X_R2L = R2L_df.drop('label',1)\n",
        "Y_R2L = R2L_df.label\n",
        "\n",
        "X_U2R = U2R_df.drop('label',1)\n",
        "Y_U2R = U2R_df.label\n",
        "\n",
        "# test set\n",
        "X_Normal_test = Normal_df_test.drop('label',1)\n",
        "Y_Normal_test = Normal_df_test.label\n",
        "\n",
        "X_DoS_test = DoS_df_test.drop('label',1)\n",
        "Y_DoS_test = DoS_df_test.label\n",
        "\n",
        "X_Probe_test = Probe_df_test.drop('label',1)\n",
        "Y_Probe_test = Probe_df_test.label\n",
        "\n",
        "X_R2L_test = R2L_df_test.drop('label',1)\n",
        "Y_R2L_test = R2L_df_test.label\n",
        "\n",
        "X_U2R_test = U2R_df_test.drop('label',1)\n",
        "Y_U2R_test = U2R_df_test.label\n"
      ]
    },
    {
      "cell_type": "code",
      "execution_count": 20,
      "metadata": {
        "id": "NuNTwl8KTFFz"
      },
      "outputs": [],
      "source": [
        "colNames=list(X_DoS)\n",
        "colNames_test=list(X_DoS_test)"
      ]
    },
    {
      "cell_type": "code",
      "execution_count": 21,
      "metadata": {
        "colab": {
          "base_uri": "https://localhost:8080/"
        },
        "id": "29p1361iSbok",
        "outputId": "cdcd23e9-0171-4f9d-87f4-974eb44e5b36"
      },
      "outputs": [
        {
          "output_type": "stream",
          "name": "stdout",
          "text": [
            "[[-0.03854769  0.12261136 -0.13416451 ...  0.          0.\n",
            "   0.        ]\n",
            " [-0.04023011 -0.02722981  0.32864413 ...  0.          0.\n",
            "   0.        ]\n",
            " [-0.04023011 -0.01833314 -0.12182507 ...  0.          0.\n",
            "   0.        ]\n",
            " ...\n",
            " [-0.04023011 -0.02101981 -0.12354685 ...  0.          0.\n",
            "   0.        ]\n",
            " [-0.04023011 -0.02664062 -0.10425651 ...  0.          0.\n",
            "   0.        ]\n",
            " [-0.04023011 -0.02988113 -0.13282534 ...  0.          0.\n",
            "   0.        ]]\n"
          ]
        }
      ],
      "source": [
        "from sklearn import preprocessing\n",
        "\n",
        "scaler0 = preprocessing.StandardScaler().fit(X_Normal)\n",
        "X_Normal=scaler0.transform(X_Normal) \n",
        "\n",
        "scaler1 = preprocessing.StandardScaler().fit(X_DoS)\n",
        "X_DoS=scaler1.transform(X_DoS) \n",
        "\n",
        "scaler2 = preprocessing.StandardScaler().fit(X_Probe)\n",
        "X_Probe=scaler2.transform(X_Probe)\n",
        "\n",
        "scaler3 = preprocessing.StandardScaler().fit(X_R2L)\n",
        "X_R2L=scaler3.transform(X_R2L)\n",
        "\n",
        "scaler4 = preprocessing.StandardScaler().fit(X_U2R)\n",
        "X_U2R=scaler4.transform(X_U2R) \n",
        "\n",
        "# test data\n",
        "scaler9 = preprocessing.StandardScaler().fit(X_Normal_test)\n",
        "X_Normal_test=scaler9.transform(X_Normal_test) \n",
        "\n",
        "scaler5 = preprocessing.StandardScaler().fit(X_DoS_test)\n",
        "X_DoS_test=scaler5.transform(X_DoS_test) \n",
        "\n",
        "scaler6 = preprocessing.StandardScaler().fit(X_Probe_test)\n",
        "X_Probe_test=scaler6.transform(X_Probe_test) \n",
        "\n",
        "scaler7 = preprocessing.StandardScaler().fit(X_R2L_test)\n",
        "X_R2L_test=scaler7.transform(X_R2L_test) \n",
        "\n",
        "scaler8 = preprocessing.StandardScaler().fit(X_U2R_test)\n",
        "X_U2R_test=scaler8.transform(X_U2R_test)\n",
        "print(X_U2R_test)"
      ]
    },
    {
      "cell_type": "code",
      "execution_count": 22,
      "metadata": {
        "id": "IDeURqvTVhQq"
      },
      "outputs": [],
      "source": [
        "X_rfeNormal = X_Normal\n",
        "X_rfeDoS = X_DoS\n",
        "X_rfeProbe = X_Probe\n",
        "X_rfeR2L = X_R2L\n",
        "X_rfeU2R = X_U2R"
      ]
    },
    {
      "cell_type": "code",
      "execution_count": 23,
      "metadata": {
        "colab": {
          "base_uri": "https://localhost:8080/"
        },
        "id": "ZM1BMhPIVUa1",
        "outputId": "43fb6988-f2c6-44e9-fa56-13e9bfbfe21b"
      },
      "outputs": [
        {
          "output_type": "stream",
          "name": "stdout",
          "text": [
            "(125973, 122)\n",
            "(113270, 122)\n",
            "(78999, 122)\n",
            "(68338, 122)\n",
            "(67395, 122)\n"
          ]
        }
      ],
      "source": [
        "print(X_rfeNormal.shape)\n",
        "print(X_rfeDoS.shape)\n",
        "print(X_rfeProbe.shape)\n",
        "print(X_rfeR2L.shape)\n",
        "print(X_rfeU2R.shape)"
      ]
    },
    {
      "cell_type": "code",
      "execution_count": 24,
      "metadata": {
        "colab": {
          "base_uri": "https://localhost:8080/"
        },
        "id": "SnXWPwLvVnM0",
        "outputId": "2e81063a-4e15-434a-cd27-d16f66863304"
      },
      "outputs": [
        {
          "output_type": "stream",
          "name": "stdout",
          "text": [
            "(22544, 122)\n",
            "(17171, 122)\n",
            "(12132, 122)\n",
            "(12596, 122)\n"
          ]
        },
        {
          "output_type": "execute_result",
          "data": {
            "text/plain": [
              "(9778, 122)"
            ]
          },
          "metadata": {},
          "execution_count": 24
        }
      ],
      "source": [
        "X_Normal_test2=X_Normal_test\n",
        "X_DoS_test2=X_DoS_test\n",
        "X_Probe_test2=X_Probe_test\n",
        "X_R2L_test2=X_R2L_test\n",
        "X_U2R_test2=X_U2R_test\n",
        "\n",
        "print(X_Normal_test2.shape)\n",
        "print(X_DoS_test2.shape)\n",
        "print(X_Probe_test2.shape)\n",
        "print(X_R2L_test2.shape)\n",
        "X_U2R_test2.shape"
      ]
    },
    {
      "cell_type": "code",
      "execution_count": 25,
      "metadata": {
        "colab": {
          "base_uri": "https://localhost:8080/"
        },
        "id": "uZ9nm4IGVnXy",
        "outputId": "dfa3ebe6-3d8a-477e-a20e-14f984be39bb"
      },
      "outputs": [
        {
          "output_type": "execute_result",
          "data": {
            "text/plain": [
              "RandomForestClassifier(max_depth=5, n_estimators=60, n_jobs=2)"
            ]
          },
          "metadata": {},
          "execution_count": 25
        }
      ],
      "source": [
        "from sklearn.ensemble import RandomForestClassifier\n",
        "clf_rfeNormal=RandomForestClassifier(max_depth=5,n_estimators=60,n_jobs=2)\n",
        "clf_rfeDoS=RandomForestClassifier(max_depth=5,n_estimators=60,n_jobs=2)\n",
        "clf_rfeProbe=RandomForestClassifier(max_depth=5,n_estimators=60,n_jobs=2)\n",
        "clf_rfeR2L=RandomForestClassifier(max_depth=5,n_estimators=60,n_jobs=2)\n",
        "clf_rfeU2R=RandomForestClassifier(max_depth=5,n_estimators=60,n_jobs=2)\n",
        "clf_rfeNormal.fit(X_rfeNormal, Y_Normal.astype(int))\n",
        "clf_rfeDoS.fit(X_rfeDoS, Y_DoS.astype(int))\n",
        "clf_rfeProbe.fit(X_rfeProbe, Y_Probe.astype(int))\n",
        "clf_rfeR2L.fit(X_rfeR2L, Y_R2L.astype(int))\n",
        "clf_rfeU2R.fit(X_rfeU2R, Y_U2R.astype(int))"
      ]
    },
    {
      "cell_type": "code",
      "execution_count": 26,
      "metadata": {
        "id": "isXw9iHfV0wS"
      },
      "outputs": [],
      "source": [
        "Y_Normal_pred2=clf_rfeNormal.predict(X_Normal_test2)\n",
        "Y_DoS_pred2=clf_rfeDoS.predict(X_DoS_test2)\n",
        "Y_Probe_pred2=clf_rfeProbe.predict(X_Probe_test2)\n",
        "Y_R2L_pred2=clf_rfeR2L.predict(X_R2L_test2)\n",
        "Y_U2R_pred2=clf_rfeU2R.predict(X_U2R_test2)"
      ]
    },
    {
      "cell_type": "code",
      "execution_count": 27,
      "metadata": {
        "colab": {
          "base_uri": "https://localhost:8080/"
        },
        "id": "alQ9ciDaaygA",
        "outputId": "2b2d1afd-4c54-4865-b601-7613d8f6721f"
      },
      "outputs": [
        {
          "output_type": "stream",
          "name": "stdout",
          "text": [
            "Accuracy: 0.94060\n"
          ]
        }
      ],
      "source": [
        "from sklearn.model_selection import cross_val_score\n",
        "from sklearn import metrics\n",
        "\n",
        "accuracy = cross_val_score(clf_rfeNormal, X_Normal_test2, Y_Normal_test, cv=10, scoring='accuracy')\n",
        "print(\"Accuracy: %0.5f\" % (accuracy.mean()))"
      ]
    },
    {
      "cell_type": "code",
      "execution_count": 28,
      "metadata": {
        "colab": {
          "base_uri": "https://localhost:8080/"
        },
        "id": "UCgVUQJ_a7GP",
        "outputId": "bfd373de-3a95-47f5-8c0c-4bf2867ab5dd"
      },
      "outputs": [
        {
          "output_type": "stream",
          "name": "stdout",
          "text": [
            "Accuracy: 0.99470\n"
          ]
        }
      ],
      "source": [
        "accuracy = cross_val_score(clf_rfeDoS, X_DoS_test2, Y_DoS_test, cv=10, scoring='accuracy')\n",
        "print(\"Accuracy: %0.5f\" % (accuracy.mean()))"
      ]
    },
    {
      "cell_type": "code",
      "execution_count": 29,
      "metadata": {
        "colab": {
          "base_uri": "https://localhost:8080/"
        },
        "id": "v_mvVOwba95_",
        "outputId": "121dfd87-a161-4fab-cb02-cccc8710596f"
      },
      "outputs": [
        {
          "output_type": "stream",
          "name": "stdout",
          "text": [
            "Accuracy: 0.99027\n"
          ]
        }
      ],
      "source": [
        "accuracy = cross_val_score(clf_rfeProbe, X_Probe_test2, Y_Probe_test, cv=10, scoring='accuracy')\n",
        "print(\"Accuracy: %0.5f\" % (accuracy.mean()))"
      ]
    },
    {
      "cell_type": "code",
      "execution_count": 30,
      "metadata": {
        "colab": {
          "base_uri": "https://localhost:8080/"
        },
        "id": "YjvzxdCcbAkm",
        "outputId": "48bf6c7f-a680-4683-adfc-36a6b4e9cf16"
      },
      "outputs": [
        {
          "output_type": "stream",
          "name": "stdout",
          "text": [
            "Accuracy: 0.95562\n"
          ]
        }
      ],
      "source": [
        "accuracy = cross_val_score(clf_rfeR2L, X_R2L_test2, Y_R2L_test, cv=10, scoring='accuracy')\n",
        "print(\"Accuracy: %0.5f\" % (accuracy.mean()))"
      ]
    },
    {
      "cell_type": "code",
      "execution_count": 31,
      "metadata": {
        "colab": {
          "base_uri": "https://localhost:8080/"
        },
        "id": "ZeQi6noRbDHs",
        "outputId": "e1cfd463-9f3c-454f-d8c2-47985a47cd0c"
      },
      "outputs": [
        {
          "output_type": "stream",
          "name": "stdout",
          "text": [
            "Accuracy: 0.99632\n"
          ]
        }
      ],
      "source": [
        "accuracy = cross_val_score(clf_rfeU2R, X_U2R_test2, Y_U2R_test, cv=10, scoring='accuracy')\n",
        "print(\"Accuracy: %0.5f\" % (accuracy.mean()))"
      ]
    },
    {
      "cell_type": "code",
      "execution_count": 32,
      "metadata": {
        "colab": {
          "base_uri": "https://localhost:8080/"
        },
        "id": "TW81MkUsbDTq",
        "outputId": "42b8b222-f35b-4d99-e35c-63bc75da3112"
      },
      "outputs": [
        {
          "output_type": "execute_result",
          "data": {
            "text/plain": [
              "KNeighborsClassifier(n_neighbors=6000)"
            ]
          },
          "metadata": {},
          "execution_count": 32
        }
      ],
      "source": [
        "from sklearn.neighbors import KNeighborsClassifier\n",
        "\n",
        "clf_KNN_Normal=KNeighborsClassifier(n_neighbors=6000)\n",
        "clf_KNN_DoS=KNeighborsClassifier(n_neighbors=6000)\n",
        "clf_KNN_Probe=KNeighborsClassifier(n_neighbors=6000)\n",
        "clf_KNN_R2L=KNeighborsClassifier(n_neighbors=6000)\n",
        "clf_KNN_U2R=KNeighborsClassifier(n_neighbors=6000)\n",
        "\n",
        "clf_KNN_Normal.fit(X_rfeNormal, Y_Normal.astype(int))\n",
        "clf_KNN_DoS.fit(X_rfeDoS, Y_DoS.astype(int))\n",
        "clf_KNN_Probe.fit(X_rfeProbe, Y_Probe.astype(int))\n",
        "clf_KNN_R2L.fit(X_rfeR2L, Y_R2L.astype(int))\n",
        "clf_KNN_U2R.fit(X_rfeU2R, Y_U2R.astype(int))"
      ]
    },
    {
      "cell_type": "code",
      "execution_count": 33,
      "metadata": {
        "id": "JvnPScV_F6PO"
      },
      "outputs": [],
      "source": [
        "Y_Normal_pred=clf_KNN_Normal.predict(X_Normal_test2)\n",
        "Y_DoS_pred=clf_KNN_DoS.predict(X_DoS_test2)\n",
        "Y_Probe_pred=clf_KNN_Probe.predict(X_Probe_test2)\n",
        "Y_R2L_pred=clf_KNN_R2L.predict(X_R2L_test2)\n",
        "Y_U2R_pred=clf_KNN_U2R.predict(X_U2R_test2)\n"
      ]
    },
    {
      "cell_type": "code",
      "execution_count": 34,
      "metadata": {
        "colab": {
          "base_uri": "https://localhost:8080/"
        },
        "id": "P0HFC9MSGSYE",
        "outputId": "536473bd-287b-4e54-a04e-8c0ae071f171"
      },
      "outputs": [
        {
          "output_type": "stream",
          "name": "stdout",
          "text": [
            "Accuracy: 0.47259\n"
          ]
        }
      ],
      "source": [
        "accuracy = cross_val_score(clf_KNN_Normal, X_Normal_test2, Y_Normal_test, cv=10, scoring='accuracy')\n",
        "print(\"Accuracy: %0.5f\" % (accuracy.mean()))"
      ]
    },
    {
      "cell_type": "code",
      "execution_count": 35,
      "metadata": {
        "colab": {
          "base_uri": "https://localhost:8080/"
        },
        "id": "810IEEIJGVI6",
        "outputId": "81344fc4-9e28-49b0-8e9b-5ab062cb2667"
      },
      "outputs": [
        {
          "output_type": "stream",
          "name": "stdout",
          "text": [
            "Accuracy: 0.56747\n"
          ]
        }
      ],
      "source": [
        "accuracy = cross_val_score(clf_KNN_DoS, X_DoS_test2, Y_DoS_test, cv=10, scoring='accuracy')\n",
        "print(\"Accuracy: %0.5f\" % (accuracy.mean()))"
      ]
    },
    {
      "cell_type": "code",
      "execution_count": 36,
      "metadata": {
        "colab": {
          "base_uri": "https://localhost:8080/"
        },
        "id": "II1QBcTWGX2i",
        "outputId": "c753480c-ec88-43af-dce9-ddcf0e572c5c"
      },
      "outputs": [
        {
          "output_type": "stream",
          "name": "stdout",
          "text": [
            "Accuracy: 0.80045\n"
          ]
        }
      ],
      "source": [
        "accuracy = cross_val_score(clf_KNN_Probe, X_Probe_test2, Y_Probe_test, cv=10, scoring='accuracy')\n",
        "print(\"Accuracy: %0.5f\" % (accuracy.mean()))"
      ]
    },
    {
      "cell_type": "code",
      "execution_count": 37,
      "metadata": {
        "colab": {
          "base_uri": "https://localhost:8080/"
        },
        "id": "ee6Qd-95GaZL",
        "outputId": "54b31ffb-836e-40a6-d1ee-09c60ce6641f"
      },
      "outputs": [
        {
          "output_type": "stream",
          "name": "stdout",
          "text": [
            "Accuracy: 0.77096\n"
          ]
        }
      ],
      "source": [
        "accuracy = cross_val_score(clf_KNN_R2L, X_R2L_test2, Y_R2L_test, cv=10, scoring='accuracy')\n",
        "print(\"Accuracy: %0.5f\" % (accuracy.mean()))"
      ]
    },
    {
      "cell_type": "code",
      "execution_count": 38,
      "metadata": {
        "colab": {
          "base_uri": "https://localhost:8080/"
        },
        "id": "JQLMm9YEGdTg",
        "outputId": "5c745eac-d455-4217-afca-ccf4cb8deaab"
      },
      "outputs": [
        {
          "output_type": "stream",
          "name": "stdout",
          "text": [
            "Accuracy: 0.99315\n"
          ]
        }
      ],
      "source": [
        "accuracy = cross_val_score(clf_KNN_U2R, X_U2R_test2, Y_U2R_test, cv=10, scoring='accuracy')\n",
        "print(\"Accuracy: %0.5f\" % (accuracy.mean()))"
      ]
    },
    {
      "cell_type": "code",
      "execution_count": 39,
      "metadata": {
        "colab": {
          "base_uri": "https://localhost:8080/"
        },
        "id": "fOujg-nnG6dN",
        "outputId": "1b516f1b-2d4f-425b-dc78-86945983eb40"
      },
      "outputs": [
        {
          "output_type": "execute_result",
          "data": {
            "text/plain": [
              "DecisionTreeClassifier(max_depth=1, random_state=0)"
            ]
          },
          "metadata": {},
          "execution_count": 39
        }
      ],
      "source": [
        "from sklearn.tree import DecisionTreeClassifier\n",
        "\n",
        "clf_dt_rfeNormal=DecisionTreeClassifier(max_depth=1,random_state=0)\n",
        "clf_dt_rfeDoS=DecisionTreeClassifier(max_depth=1,random_state=0)\n",
        "clf_dt_rfeProbe=DecisionTreeClassifier(max_depth=1,random_state=0)\n",
        "clf_dt_rfeR2L=DecisionTreeClassifier(max_depth=1,random_state=0)\n",
        "clf_dt_rfeU2R=DecisionTreeClassifier(max_depth=1,random_state=0)\n",
        "\n",
        "clf_dt_rfeNormal.fit(X_rfeNormal, Y_Normal)\n",
        "clf_dt_rfeDoS.fit(X_rfeDoS, Y_DoS)\n",
        "clf_dt_rfeProbe.fit(X_rfeProbe, Y_Probe)\n",
        "clf_dt_rfeR2L.fit(X_rfeR2L, Y_R2L)\n",
        "clf_dt_rfeU2R.fit(X_rfeU2R, Y_U2R)"
      ]
    },
    {
      "cell_type": "code",
      "execution_count": 40,
      "metadata": {
        "id": "JCP3w4XEG9to"
      },
      "outputs": [],
      "source": [
        "Y_Normal_pred2=clf_dt_rfeNormal.predict(X_Normal_test2)\n",
        "Y_DoS_pred2=clf_dt_rfeDoS.predict(X_DoS_test2)\n",
        "Y_Probe_pred2=clf_dt_rfeProbe.predict(X_Probe_test2)\n",
        "Y_U2R_pred2=clf_dt_rfeU2R.predict(X_U2R_test2)\n",
        "Y_R2L_pred2=clf_dt_rfeR2L.predict(X_R2L_test2)\n"
      ]
    },
    {
      "cell_type": "code",
      "execution_count": 41,
      "metadata": {
        "colab": {
          "base_uri": "https://localhost:8080/"
        },
        "id": "JOqgFlVzIsDA",
        "outputId": "b77c8bd2-ea14-477b-c90a-e12ed0c35332"
      },
      "outputs": [
        {
          "output_type": "stream",
          "name": "stdout",
          "text": [
            "Accuracy: 0.68231\n"
          ]
        }
      ],
      "source": [
        "accuracy = cross_val_score(clf_dt_rfeNormal, X_Normal_test2, Y_Normal_test, cv=5, scoring='accuracy')\n",
        "print(\"Accuracy: %0.5f\" % (accuracy.mean()))"
      ]
    },
    {
      "cell_type": "code",
      "execution_count": 42,
      "metadata": {
        "colab": {
          "base_uri": "https://localhost:8080/"
        },
        "id": "cjFsQn6AIu6-",
        "outputId": "2b428637-2785-4f0d-c0bb-49d4bf0aeb2f"
      },
      "outputs": [
        {
          "output_type": "stream",
          "name": "stdout",
          "text": [
            "Accuracy: 0.89220\n"
          ]
        }
      ],
      "source": [
        "accuracy = cross_val_score(clf_dt_rfeDoS, X_DoS_test2, Y_DoS_test, cv=10, scoring='accuracy')\n",
        "print(\"Accuracy: %0.5f\" % (accuracy.mean()))"
      ]
    },
    {
      "cell_type": "code",
      "execution_count": 43,
      "metadata": {
        "colab": {
          "base_uri": "https://localhost:8080/"
        },
        "id": "wV2ot2iwIxhm",
        "outputId": "0858ffb3-9ff3-457e-a743-7aee9020dafb"
      },
      "outputs": [
        {
          "output_type": "stream",
          "name": "stdout",
          "text": [
            "Accuracy: 0.96513\n"
          ]
        }
      ],
      "source": [
        "accuracy = cross_val_score(clf_dt_rfeProbe, X_Probe_test2, Y_Probe_test, cv=10, scoring='accuracy')\n",
        "print(\"Accuracy: %0.5f\" % (accuracy.mean()))"
      ]
    },
    {
      "cell_type": "code",
      "execution_count": 44,
      "metadata": {
        "colab": {
          "base_uri": "https://localhost:8080/"
        },
        "id": "Dh9_SNRkI0lc",
        "outputId": "8c29fe48-19b6-496d-aeac-3f1e5ed4d121"
      },
      "outputs": [
        {
          "output_type": "stream",
          "name": "stdout",
          "text": [
            "Accuracy: 0.87353\n"
          ]
        }
      ],
      "source": [
        "accuracy = cross_val_score(clf_dt_rfeR2L, X_R2L_test2, Y_R2L_test, cv=10, scoring='accuracy')\n",
        "print(\"Accuracy: %0.5f\" % (accuracy.mean()))"
      ]
    },
    {
      "cell_type": "code",
      "execution_count": 45,
      "metadata": {
        "colab": {
          "base_uri": "https://localhost:8080/"
        },
        "id": "FFU9EP9SI3HC",
        "outputId": "763e5ece-e64d-4908-93c5-399670a72b5f"
      },
      "outputs": [
        {
          "output_type": "stream",
          "name": "stdout",
          "text": [
            "Accuracy: 0.99560\n"
          ]
        }
      ],
      "source": [
        "accuracy = cross_val_score(clf_dt_rfeU2R, X_U2R_test2, Y_U2R_test, cv=10, scoring='accuracy')\n",
        "print(\"Accuracy: %0.5f\" % (accuracy.mean()))"
      ]
    },
    {
      "cell_type": "code",
      "execution_count": 46,
      "metadata": {
        "colab": {
          "base_uri": "https://localhost:8080/"
        },
        "id": "XLYCxQqcybKD",
        "outputId": "b30495b8-a02e-4f77-9ab3-ad6905bc4c16"
      },
      "outputs": [
        {
          "output_type": "execute_result",
          "data": {
            "text/plain": [
              "XGBClassifier(max_depth=4, n_estimators=10)"
            ]
          },
          "metadata": {},
          "execution_count": 46
        }
      ],
      "source": [
        "from xgboost import XGBClassifier\n",
        "\n",
        "clf_xgb_Normal = XGBClassifier(max_depth=4,n_estimators=10,random_state=0)\n",
        "clf_xgb_DoS = XGBClassifier(max_depth=4,n_estimators=10,random_state=0)\n",
        "clf_xgb_Probe = XGBClassifier(max_depth=4,n_estimators=10,random_state=0)\n",
        "clf_xgb_R2L = XGBClassifier(max_depth=4,n_estimators=10,random_state=0)\n",
        "clf_xgb_U2R = XGBClassifier(max_depth=4,n_estimators=10,random_state=0)\n",
        "\n",
        "clf_xgb_Normal.fit(X_rfeNormal, Y_Normal.astype(int))\n",
        "clf_xgb_DoS.fit(X_rfeDoS, Y_DoS.astype(int))\n",
        "clf_xgb_Probe.fit(X_rfeProbe, Y_Probe.astype(int))\n",
        "clf_xgb_R2L.fit(X_rfeR2L, Y_R2L.astype(int))\n",
        "clf_xgb_U2R.fit(X_rfeU2R, Y_U2R.astype(int))"
      ]
    },
    {
      "cell_type": "code",
      "execution_count": 47,
      "metadata": {
        "id": "PM7gUm-ByeOO"
      },
      "outputs": [],
      "source": [
        "Y_Normal_pred=clf_xgb_Normal.predict(X_Normal_test2)\n",
        "Y_DoS_pred=clf_xgb_DoS.predict(X_DoS_test2)\n",
        "Y_Probe_pred=clf_xgb_Probe.predict(X_Probe_test2)\n",
        "Y_R2L_pred=clf_xgb_R2L.predict(X_R2L_test2)\n",
        "Y_U2R_pred=clf_xgb_U2R.predict(X_U2R_test2)\n"
      ]
    },
    {
      "cell_type": "code",
      "execution_count": 48,
      "metadata": {
        "colab": {
          "base_uri": "https://localhost:8080/"
        },
        "id": "Em7awlBSytVn",
        "outputId": "d9316c7c-4430-4307-99be-c18153988de3"
      },
      "outputs": [
        {
          "output_type": "stream",
          "name": "stdout",
          "text": [
            "Accuracy: 0.96460\n"
          ]
        }
      ],
      "source": [
        "accuracy = cross_val_score(clf_xgb_Normal, X_Normal_test2, Y_Normal_test, cv=10, scoring='accuracy')\n",
        "print(\"Accuracy: %0.5f\" % (accuracy.mean()))"
      ]
    },
    {
      "cell_type": "code",
      "execution_count": 49,
      "metadata": {
        "colab": {
          "base_uri": "https://localhost:8080/"
        },
        "id": "iRcQYvwkyv5j",
        "outputId": "633a7c51-d390-4e6c-fbdc-7f472221edae"
      },
      "outputs": [
        {
          "output_type": "stream",
          "name": "stdout",
          "text": [
            "Accuracy: 0.99260\n"
          ]
        }
      ],
      "source": [
        "accuracy = cross_val_score(clf_xgb_DoS, X_DoS_test2, Y_DoS_test, cv=10, scoring='accuracy')\n",
        "print(\"Accuracy: %0.5f\" % (accuracy.mean()))"
      ]
    },
    {
      "cell_type": "code",
      "execution_count": 50,
      "metadata": {
        "colab": {
          "base_uri": "https://localhost:8080/"
        },
        "id": "u7HpT6jPyzP7",
        "outputId": "1270e25e-f7c6-4062-a13d-90cbd2cc678f"
      },
      "outputs": [
        {
          "output_type": "stream",
          "name": "stdout",
          "text": [
            "Accuracy: 0.98755\n"
          ]
        }
      ],
      "source": [
        "accuracy = cross_val_score(clf_xgb_Probe, X_Probe_test2, Y_Probe_test, cv=10, scoring='accuracy')\n",
        "print(\"Accuracy: %0.5f\" % (accuracy.mean()))"
      ]
    },
    {
      "cell_type": "code",
      "execution_count": 51,
      "metadata": {
        "colab": {
          "base_uri": "https://localhost:8080/"
        },
        "id": "nzoQu-4Dy2MB",
        "outputId": "c64099a8-4b71-467e-d80a-2540f403872b"
      },
      "outputs": [
        {
          "output_type": "stream",
          "name": "stdout",
          "text": [
            "Accuracy: 0.96634\n"
          ]
        }
      ],
      "source": [
        "accuracy = cross_val_score(clf_xgb_R2L, X_R2L_test2, Y_R2L_test, cv=10, scoring='accuracy')\n",
        "print(\"Accuracy: %0.5f\" % (accuracy.mean()))"
      ]
    },
    {
      "cell_type": "code",
      "execution_count": 52,
      "metadata": {
        "id": "MMI87zdAy5N6",
        "colab": {
          "base_uri": "https://localhost:8080/"
        },
        "outputId": "cf6b9534-fe7c-42c2-9289-83c41cb2e00e"
      },
      "outputs": [
        {
          "output_type": "stream",
          "name": "stdout",
          "text": [
            "Accuracy: 0.99632\n"
          ]
        }
      ],
      "source": [
        "accuracy = cross_val_score(clf_xgb_U2R, X_U2R_test2, Y_U2R_test, cv=10, scoring='accuracy')\n",
        "print(\"Accuracy: %0.5f\" % (accuracy.mean()))"
      ]
    },
    {
      "cell_type": "code",
      "source": [
        "from sklearn.ensemble import VotingClassifier\n",
        "\n",
        "clf_voting_Normal = VotingClassifier(estimators=[('rf', clf_rfeNormal), ('knn', clf_KNN_Normal), ('xgb', clf_xgb_Normal), ('dt', clf_dt_rfeNormal)], voting='hard')\n",
        "clf_voting_DoS = VotingClassifier(estimators=[('rf', clf_rfeDoS), ('knn', clf_KNN_DoS), ('xgb', clf_xgb_DoS), ('dt', clf_dt_rfeDoS)], voting='hard')\n",
        "clf_voting_Probe = VotingClassifier(estimators=[('rf', clf_rfeProbe), ('knn', clf_KNN_Probe), ('xgb', clf_xgb_Probe), ('dt', clf_dt_rfeProbe)], voting='hard')\n",
        "clf_voting_R2L = VotingClassifier(estimators=[('rf', clf_rfeR2L), ('knn', clf_KNN_R2L), ('xgb', clf_xgb_R2L), ('dt', clf_dt_rfeR2L)], voting='hard')\n",
        "clf_voting_U2R = VotingClassifier(estimators=[('rf', clf_rfeU2R), ('knn', clf_KNN_U2R), ('xgb', clf_xgb_U2R), ('dt', clf_dt_rfeU2R)], voting='hard')\n",
        "\n",
        "clf_voting_Normal.fit(X_rfeNormal, Y_Normal.astype(int))\n",
        "clf_voting_DoS.fit(X_rfeDoS, Y_DoS.astype(int))\n",
        "clf_voting_Probe.fit(X_rfeProbe, Y_Probe.astype(int))\n",
        "clf_voting_R2L.fit(X_rfeR2L, Y_R2L.astype(int))\n",
        "clf_voting_U2R.fit(X_rfeU2R, Y_U2R.astype(int))"
      ],
      "metadata": {
        "colab": {
          "base_uri": "https://localhost:8080/"
        },
        "id": "M4srcSqDU-NS",
        "outputId": "0bbd1604-cca0-4b7d-88b2-4e9bf0843db0"
      },
      "execution_count": 53,
      "outputs": [
        {
          "output_type": "execute_result",
          "data": {
            "text/plain": [
              "VotingClassifier(estimators=[('rf',\n",
              "                              RandomForestClassifier(max_depth=5,\n",
              "                                                     n_estimators=60,\n",
              "                                                     n_jobs=2)),\n",
              "                             ('knn', KNeighborsClassifier(n_neighbors=6000)),\n",
              "                             ('xgb',\n",
              "                              XGBClassifier(max_depth=4, n_estimators=10)),\n",
              "                             ('dt',\n",
              "                              DecisionTreeClassifier(max_depth=1,\n",
              "                                                     random_state=0))])"
            ]
          },
          "metadata": {},
          "execution_count": 53
        }
      ]
    },
    {
      "cell_type": "code",
      "source": [
        "Y_Normal_pred=clf_voting_Normal.predict(X_Normal_test2)\n",
        "Y_DoS_pred=clf_voting_DoS.predict(X_DoS_test2)\n",
        "Y_Probe_pred=clf_voting_Probe.predict(X_Probe_test2)\n",
        "Y_R2L_pred=clf_voting_R2L.predict(X_R2L_test2)\n",
        "Y_U2R_pred=clf_voting_U2R.predict(X_U2R_test2)"
      ],
      "metadata": {
        "id": "Ybk0_TWHVCXE"
      },
      "execution_count": 54,
      "outputs": []
    },
    {
      "cell_type": "code",
      "source": [
        "accuracy = cross_val_score(clf_voting_Normal, X_Normal_test2, Y_Normal_test, cv=10, scoring='accuracy')\n",
        "print(\"Accuracy: %0.5f\" % (accuracy.mean()))"
      ],
      "metadata": {
        "colab": {
          "base_uri": "https://localhost:8080/"
        },
        "id": "wkn0tOTOVXmX",
        "outputId": "ea990f17-4f2b-43ae-abf3-165953a27ad0"
      },
      "execution_count": 55,
      "outputs": [
        {
          "output_type": "stream",
          "name": "stdout",
          "text": [
            "Accuracy: 0.83668\n"
          ]
        }
      ]
    },
    {
      "cell_type": "code",
      "source": [
        "accuracy = cross_val_score(clf_voting_DoS, X_DoS_test2, Y_DoS_test, cv=10, scoring='accuracy')\n",
        "print(\"Accuracy: %0.5f\" % (accuracy.mean()))"
      ],
      "metadata": {
        "colab": {
          "base_uri": "https://localhost:8080/"
        },
        "id": "2qDXidp2Vajp",
        "outputId": "563e1b55-ce40-4d9d-eefa-787a8a3318b2"
      },
      "execution_count": 56,
      "outputs": [
        {
          "output_type": "stream",
          "name": "stdout",
          "text": [
            "Accuracy: 0.94397\n"
          ]
        }
      ]
    },
    {
      "cell_type": "code",
      "source": [
        "accuracy = cross_val_score(clf_voting_Probe, X_Probe_test2, Y_Probe_test, cv=10, scoring='accuracy')\n",
        "print(\"Accuracy: %0.5f\" % (accuracy.mean()))"
      ],
      "metadata": {
        "colab": {
          "base_uri": "https://localhost:8080/"
        },
        "id": "FBRUHH3SVdRC",
        "outputId": "8c9aa4d0-9ece-4403-c095-64a3f6be9065"
      },
      "execution_count": 57,
      "outputs": [
        {
          "output_type": "stream",
          "name": "stdout",
          "text": [
            "Accuracy: 0.99134\n"
          ]
        }
      ]
    },
    {
      "cell_type": "code",
      "source": [
        "accuracy = cross_val_score(clf_voting_R2L, X_R2L_test2, Y_R2L_test, cv=10, scoring='accuracy')\n",
        "print(\"Accuracy: %0.5f\" % (accuracy.mean()))"
      ],
      "metadata": {
        "colab": {
          "base_uri": "https://localhost:8080/"
        },
        "id": "F49GUwMzVgY4",
        "outputId": "ae6c6e01-b1de-47d5-b6dd-3563903ddf4a"
      },
      "execution_count": 58,
      "outputs": [
        {
          "output_type": "stream",
          "name": "stdout",
          "text": [
            "Accuracy: 0.88671\n"
          ]
        }
      ]
    },
    {
      "cell_type": "code",
      "source": [
        "accuracy = cross_val_score(clf_voting_U2R, X_U2R_test2, Y_U2R_test, cv=10, scoring='accuracy')\n",
        "print(\"Accuracy: %0.5f\" % (accuracy.mean()))"
      ],
      "metadata": {
        "colab": {
          "base_uri": "https://localhost:8080/"
        },
        "id": "vRWnKWXOVjZX",
        "outputId": "bef572d3-d173-43db-ead3-aa4c96fa10dc"
      },
      "execution_count": 59,
      "outputs": [
        {
          "output_type": "stream",
          "name": "stdout",
          "text": [
            "Accuracy: 0.99550\n"
          ]
        }
      ]
    },
    {
      "cell_type": "code",
      "source": [
        "print(\"Mean of Whole Accuracy = \")\n",
        "print(((0.99 + 0.88 + 0.99 + 0.94 + 0.83)/5))"
      ],
      "metadata": {
        "colab": {
          "base_uri": "https://localhost:8080/"
        },
        "id": "LZFe-HGgVlym",
        "outputId": "fd1f7cb2-a115-420c-f92d-06d382e53de0"
      },
      "execution_count": 60,
      "outputs": [
        {
          "output_type": "stream",
          "name": "stdout",
          "text": [
            "Mean of Whole Accuracy = \n",
            "0.9259999999999999\n"
          ]
        }
      ]
    }
  ],
  "metadata": {
    "colab": {
      "collapsed_sections": [],
      "name": "Ensemble_IDS.ipynb",
      "provenance": []
    },
    "kernelspec": {
      "display_name": "Python 3",
      "name": "python3"
    },
    "language_info": {
      "name": "python"
    }
  },
  "nbformat": 4,
  "nbformat_minor": 0
}